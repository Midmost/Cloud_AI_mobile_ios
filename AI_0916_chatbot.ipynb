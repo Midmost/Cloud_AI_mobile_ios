{
  "nbformat": 4,
  "nbformat_minor": 0,
  "metadata": {
    "colab": {
      "name": "AI_0916_chatbot.ipynb",
      "private_outputs": true,
      "provenance": [],
      "authorship_tag": "ABX9TyPzkFwkOBftlrJkQA39hChA",
      "include_colab_link": true
    },
    "kernelspec": {
      "name": "python3",
      "display_name": "Python 3"
    },
    "language_info": {
      "name": "python"
    }
  },
  "cells": [
    {
      "cell_type": "markdown",
      "metadata": {
        "id": "view-in-github",
        "colab_type": "text"
      },
      "source": [
        "<a href=\"https://colab.research.google.com/github/Midmost/Cloud_AI_mobile_ios/blob/main/AI_0916_chatbot.ipynb\" target=\"_parent\"><img src=\"https://colab.research.google.com/assets/colab-badge.svg\" alt=\"Open In Colab\"/></a>"
      ]
    },
    {
      "cell_type": "code",
      "metadata": {
        "id": "Orjv87xlZpmR"
      },
      "source": [
        "host = 'nambuqnamakerhj.azurewebsites.net' # 호스트 주소 잡을 때 http빼고 잡아야해"
      ],
      "execution_count": null,
      "outputs": []
    },
    {
      "cell_type": "code",
      "metadata": {
        "id": "DUbNklaUZ-3p"
      },
      "source": [
        "endpoint_key = '78c2bb01-2ad2-4d10-9207-51d34df51bca'"
      ],
      "execution_count": null,
      "outputs": []
    },
    {
      "cell_type": "code",
      "metadata": {
        "id": "FkOEj7NpaCWq"
      },
      "source": [
        "kb = '92f3b1f8-5fb9-41c6-86d0-c7bb005502c0'"
      ],
      "execution_count": null,
      "outputs": []
    },
    {
      "cell_type": "markdown",
      "metadata": {
        "id": "pUUm7J1UbFBS"
      },
      "source": [
        "세팅완료"
      ]
    },
    {
      "cell_type": "code",
      "metadata": {
        "id": "W7C2XRI9anRK"
      },
      "source": [
        "method = \"/qnamaker/knowledgebases/\" + kb + \"/generateAnswer\" # 고유번호 들어간 뒤 "
      ],
      "execution_count": null,
      "outputs": []
    },
    {
      "cell_type": "code",
      "metadata": {
        "id": "bSxSiu8ibB9x"
      },
      "source": [
        "question = { 'question': '시티투어 버스가 타고 싶어요?', 'top': 3 }"
      ],
      "execution_count": null,
      "outputs": []
    },
    {
      "cell_type": "markdown",
      "metadata": {
        "id": "QdCggqvefYwQ"
      },
      "source": [
        "딕셔너리 타입으로 질문 넣고 "
      ]
    },
    {
      "cell_type": "code",
      "metadata": {
        "id": "kzYQfnkgbW7N"
      },
      "source": [
        "def pretty_print (content):\n",
        "# Note: We convert content to and from an object so we can pretty-print it.\n",
        "    return json.dumps(json.loads(content), indent=4)"
      ],
      "execution_count": null,
      "outputs": []
    },
    {
      "cell_type": "markdown",
      "metadata": {
        "id": "9PwAHTuTbfqr"
      },
      "source": [
        "이제 답을 가져올 함수를 쓰려고 하는데 http가 끼어 있어. 그래서 import를 해줘야해"
      ]
    },
    {
      "cell_type": "code",
      "metadata": {
        "id": "ulShqS1vbX7o"
      },
      "source": [
        "import http.client"
      ],
      "execution_count": null,
      "outputs": []
    },
    {
      "cell_type": "code",
      "metadata": {
        "id": "UXeapJKXfuJD"
      },
      "source": [
        "import urllib.parse, time, sys"
      ],
      "execution_count": null,
      "outputs": []
    },
    {
      "cell_type": "code",
      "metadata": {
        "id": "DZbsT9r2blA3"
      },
      "source": [
        "def get_answers (path, content):\n",
        "    print ('Calling ' + host + path + '.')\n",
        "    headers = {\n",
        "        'Authorization': 'EndpointKey ' + endpoint_key,\n",
        "        'Content-Type': 'application/json',\n",
        "        'Content-Length': len (content)\n",
        "    }\n",
        "    conn = http.client.HTTPSConnection(host)\n",
        "    conn.request (\"POST\", path, content, headers)\n",
        "    response = conn.getresponse ()\n",
        "    return response.read ()"
      ],
      "execution_count": null,
      "outputs": []
    },
    {
      "cell_type": "code",
      "metadata": {
        "id": "paZ4La7NcbSo"
      },
      "source": [
        "import json"
      ],
      "execution_count": null,
      "outputs": []
    },
    {
      "cell_type": "code",
      "metadata": {
        "id": "aybwI1bvcLJk"
      },
      "source": [
        "content = json.dumps(question) # json이 정의가 안 되어 있어서 값을 가져와야 해"
      ],
      "execution_count": null,
      "outputs": []
    },
    {
      "cell_type": "code",
      "metadata": {
        "id": "iI-VXMljevO5"
      },
      "source": [
        "content"
      ],
      "execution_count": null,
      "outputs": []
    },
    {
      "cell_type": "markdown",
      "metadata": {
        "id": "C2ssRNwteifz"
      },
      "source": [
        "코드를 영어로 만드릭 위해 풀어쓰고 덮어씌우는 엔코딩 디코딩 과정 필요 "
      ]
    },
    {
      "cell_type": "markdown",
      "metadata": {
        "id": "iCKFDm-ee6bB"
      },
      "source": [
        "네트워크로 한글이 왔다갔다 할 때 깨지면 복원해주는 작업이 필요 utf-8로 바꿔줘 그냥 resultgkaus Rowlfrjdi"
      ]
    },
    {
      "cell_type": "code",
      "metadata": {
        "id": "G_bUIGiPfO_X"
      },
      "source": [
        "result = get_answers(method, content)"
      ],
      "execution_count": null,
      "outputs": []
    },
    {
      "cell_type": "code",
      "metadata": {
        "id": "ydLkRHxqeLex"
      },
      "source": [
        "result.decode('UTF-8') # 기본적으로 엔코딩으로 작업이 되기 때문에 만약 불러왔을 떄 깨진다면 decode('UTF-8')을 해주자"
      ],
      "execution_count": null,
      "outputs": []
    },
    {
      "cell_type": "code",
      "metadata": {
        "id": "DP1s1HgzfM11"
      },
      "source": [
        "print (pretty_print(result.decode('UTF-8')))"
      ],
      "execution_count": null,
      "outputs": []
    },
    {
      "cell_type": "code",
      "metadata": {
        "id": "-34i1QJKf-tK"
      },
      "source": [
        ""
      ],
      "execution_count": null,
      "outputs": []
    }
  ]
}