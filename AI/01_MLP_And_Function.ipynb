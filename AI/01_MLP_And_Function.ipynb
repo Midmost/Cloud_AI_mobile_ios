{
  "nbformat": 4,
  "nbformat_minor": 0,
  "metadata": {
    "kernelspec": {
      "display_name": "Python 3",
      "language": "python",
      "name": "python3"
    },
    "language_info": {
      "codemirror_mode": {
        "name": "ipython",
        "version": 3
      },
      "file_extension": ".py",
      "mimetype": "text/x-python",
      "name": "python",
      "nbconvert_exporter": "python",
      "pygments_lexer": "ipython3",
      "version": "3.8.5"
    },
    "colab": {
      "name": "01.MLP_And_Function.ipynb",
      "provenance": [],
      "collapsed_sections": [],
      "include_colab_link": true
    }
  },
  "cells": [
    {
      "cell_type": "markdown",
      "metadata": {
        "id": "view-in-github",
        "colab_type": "text"
      },
      "source": [
        "<a href=\"https://colab.research.google.com/github/Midmost/Cloud_AI_mobile_ios/blob/main/AI/01_MLP_And_Function.ipynb\" target=\"_parent\"><img src=\"https://colab.research.google.com/assets/colab-badge.svg\" alt=\"Open In Colab\"/></a>"
      ]
    },
    {
      "cell_type": "markdown",
      "metadata": {
        "id": "5aITcM_J71f5"
      },
      "source": [
        "### 딥-러닝 과정 Mulit Layer Perceptron(MLP) "
      ]
    },
    {
      "cell_type": "markdown",
      "metadata": {
        "id": "k_QXtQ7U71f7"
      },
      "source": [
        "## Simple Keras 모델 생성/학습 - AND Function"
      ]
    },
    {
      "cell_type": "code",
      "metadata": {
        "colab": {
          "base_uri": "https://localhost:8080/"
        },
        "id": "mzKeZEiM71f7",
        "outputId": "1ca31dff-cc85-4ac7-e817-72a5bd655504"
      },
      "source": [
        "# 1. Numpy 가져오기\n",
        "import numpy as np\n",
        "\n",
        "print(np.__version__)"
      ],
      "execution_count": null,
      "outputs": [
        {
          "output_type": "stream",
          "name": "stdout",
          "text": [
            "1.19.5\n"
          ]
        }
      ]
    },
    {
      "cell_type": "code",
      "metadata": {
        "colab": {
          "base_uri": "https://localhost:8080/"
        },
        "id": "OWpKhmzb71f8",
        "outputId": "ddf2ae4a-6dfe-4dc8-d7a3-b0fbcba9b96a"
      },
      "source": [
        "# 2. 입력/출력 데이터 만들기\n",
        "\n",
        "# csv = \"/content/diabetes_data.csv\"\n",
        "\n",
        "x = np.array([[0,0],[0,1],[1,0],[1,1]])\n",
        "y = np.array([[0],[0],[0],[1]])\n",
        "\n",
        "print(x)\n",
        "print(y)"
      ],
      "execution_count": null,
      "outputs": [
        {
          "output_type": "stream",
          "name": "stdout",
          "text": [
            "[[0 0]\n",
            " [0 1]\n",
            " [1 0]\n",
            " [1 1]]\n",
            "[[0]\n",
            " [0]\n",
            " [0]\n",
            " [1]]\n"
          ]
        }
      ]
    },
    {
      "cell_type": "code",
      "metadata": {
        "colab": {
          "base_uri": "https://localhost:8080/"
        },
        "id": "2ne8HaE471f8",
        "outputId": "b94c7a0e-6ca7-4270-98fe-07b250e36032"
      },
      "source": [
        "# 3. Keras 패키지 가져오기\n",
        "from tensorflow import keras \n",
        "from tensorflow.keras import layers\n",
        "\n",
        "# 항상 버전을 맞춰주는 습관을 가지자\n",
        "print(keras.__version__)"
      ],
      "execution_count": null,
      "outputs": [
        {
          "output_type": "stream",
          "name": "stdout",
          "text": [
            "2.6.0\n"
          ]
        }
      ]
    },
    {
      "cell_type": "code",
      "metadata": {
        "colab": {
          "base_uri": "https://localhost:8080/"
        },
        "id": "_sZwoSiL71f8",
        "outputId": "e901edf0-0b37-41c0-e1c5-2087aa9d9078"
      },
      "source": [
        "# 4. Perceptron 모델 생성\n",
        "\n",
        "# from keras.models import Sequential\n",
        "# model = Sequential()\n",
        "\n",
        "model = keras.Sequential()\n",
        "\n",
        "\n",
        "model.add(layers.Dense(input_dim=2, units=1)) # 우리는 단일퍼셉트론을 만들거기 때문에 이게 입력층이자 출력층\n",
        "model.add(layers.Activation('sigmoid'))\n",
        "\n",
        "model.summary()\n",
        "# model.add(Dense(12, input_dim=8, kernel_initializer='random_uniform'))"
      ],
      "execution_count": null,
      "outputs": [
        {
          "output_type": "stream",
          "name": "stdout",
          "text": [
            "Model: \"sequential_4\"\n",
            "_________________________________________________________________\n",
            "Layer (type)                 Output Shape              Param #   \n",
            "=================================================================\n",
            "dense_2 (Dense)              (None, 1)                 3         \n",
            "_________________________________________________________________\n",
            "activation_2 (Activation)    (None, 1)                 0         \n",
            "=================================================================\n",
            "Total params: 3\n",
            "Trainable params: 3\n",
            "Non-trainable params: 0\n",
            "_________________________________________________________________\n"
          ]
        }
      ]
    },
    {
      "cell_type": "code",
      "metadata": {
        "id": "_jx9nlGF71f8"
      },
      "source": [
        "# 5. Compile - Optimizer, Loss function 설정\n",
        "from keras.layers.core import Dense, Activation\n",
        "\n",
        "sgd = keras.optimizers.SGD(learning_rate=0.1)\n",
        "model.compile(loss = 'binary_crossentropy')\n",
        "\n",
        "\n",
        "# from keras.optimizers import SGD 이거를 안쓰넴...."
      ],
      "execution_count": null,
      "outputs": []
    },
    {
      "cell_type": "code",
      "metadata": {
        "colab": {
          "base_uri": "https://localhost:8080/"
        },
        "id": "Z1Ybfj7l71f9",
        "outputId": "1203ff8a-aa42-4ee2-a62f-8aca7b0f2288"
      },
      "source": [
        "# 6. 학습시키기\n",
        "\n",
        "# history = model.fit(X_train, Y_train, batch_size=1, epochs=200, verbose=VERBOSE, validation_split=VALIDATION_SPLIT)\n",
        "# batch_size 가 1이란건 한 번 풀고 답 확인하고 한다는 거 몇문제 풀고 답을 확인하는지를 보는 게 batch_size\n",
        "\n",
        "history = model.fit(x, y, batch_size=1, epochs=200)"
      ],
      "execution_count": null,
      "outputs": [
        {
          "output_type": "stream",
          "name": "stdout",
          "text": [
            "Epoch 1/200\n",
            "4/4 [==============================] - 0s 3ms/step - loss: 0.7351\n",
            "Epoch 2/200\n",
            "4/4 [==============================] - 0s 3ms/step - loss: 0.7328\n",
            "Epoch 3/200\n",
            "4/4 [==============================] - 0s 3ms/step - loss: 0.7314\n",
            "Epoch 4/200\n",
            "4/4 [==============================] - 0s 3ms/step - loss: 0.7300\n",
            "Epoch 5/200\n",
            "4/4 [==============================] - 0s 3ms/step - loss: 0.7288\n",
            "Epoch 6/200\n",
            "4/4 [==============================] - 0s 3ms/step - loss: 0.7277\n",
            "Epoch 7/200\n",
            "4/4 [==============================] - 0s 3ms/step - loss: 0.7266\n",
            "Epoch 8/200\n",
            "4/4 [==============================] - 0s 4ms/step - loss: 0.7255\n",
            "Epoch 9/200\n",
            "4/4 [==============================] - 0s 3ms/step - loss: 0.7244\n",
            "Epoch 10/200\n",
            "4/4 [==============================] - 0s 4ms/step - loss: 0.7234\n",
            "Epoch 11/200\n",
            "4/4 [==============================] - 0s 3ms/step - loss: 0.7223\n",
            "Epoch 12/200\n",
            "4/4 [==============================] - 0s 3ms/step - loss: 0.7213\n",
            "Epoch 13/200\n",
            "4/4 [==============================] - 0s 3ms/step - loss: 0.7203\n",
            "Epoch 14/200\n",
            "4/4 [==============================] - 0s 4ms/step - loss: 0.7193\n",
            "Epoch 15/200\n",
            "4/4 [==============================] - 0s 4ms/step - loss: 0.7182\n",
            "Epoch 16/200\n",
            "4/4 [==============================] - 0s 3ms/step - loss: 0.7172\n",
            "Epoch 17/200\n",
            "4/4 [==============================] - 0s 3ms/step - loss: 0.7162\n",
            "Epoch 18/200\n",
            "4/4 [==============================] - 0s 3ms/step - loss: 0.7152\n",
            "Epoch 19/200\n",
            "4/4 [==============================] - 0s 3ms/step - loss: 0.7142\n",
            "Epoch 20/200\n",
            "4/4 [==============================] - 0s 3ms/step - loss: 0.7132\n",
            "Epoch 21/200\n",
            "4/4 [==============================] - 0s 4ms/step - loss: 0.7122\n",
            "Epoch 22/200\n",
            "4/4 [==============================] - 0s 4ms/step - loss: 0.7112\n",
            "Epoch 23/200\n",
            "4/4 [==============================] - 0s 3ms/step - loss: 0.7103\n",
            "Epoch 24/200\n",
            "4/4 [==============================] - 0s 3ms/step - loss: 0.7092\n",
            "Epoch 25/200\n",
            "4/4 [==============================] - 0s 4ms/step - loss: 0.7083\n",
            "Epoch 26/200\n",
            "4/4 [==============================] - 0s 8ms/step - loss: 0.7073\n",
            "Epoch 27/200\n",
            "4/4 [==============================] - 0s 4ms/step - loss: 0.7063\n",
            "Epoch 28/200\n",
            "4/4 [==============================] - 0s 3ms/step - loss: 0.7054\n",
            "Epoch 29/200\n",
            "4/4 [==============================] - 0s 5ms/step - loss: 0.7045\n",
            "Epoch 30/200\n",
            "4/4 [==============================] - 0s 4ms/step - loss: 0.7035\n",
            "Epoch 31/200\n",
            "4/4 [==============================] - 0s 4ms/step - loss: 0.7025\n",
            "Epoch 32/200\n",
            "4/4 [==============================] - 0s 4ms/step - loss: 0.7016\n",
            "Epoch 33/200\n",
            "4/4 [==============================] - 0s 4ms/step - loss: 0.7007\n",
            "Epoch 34/200\n",
            "4/4 [==============================] - 0s 4ms/step - loss: 0.6997\n",
            "Epoch 35/200\n",
            "4/4 [==============================] - 0s 4ms/step - loss: 0.6988\n",
            "Epoch 36/200\n",
            "4/4 [==============================] - 0s 3ms/step - loss: 0.6979\n",
            "Epoch 37/200\n",
            "4/4 [==============================] - 0s 3ms/step - loss: 0.6970\n",
            "Epoch 38/200\n",
            "4/4 [==============================] - 0s 3ms/step - loss: 0.6960\n",
            "Epoch 39/200\n",
            "4/4 [==============================] - 0s 4ms/step - loss: 0.6951\n",
            "Epoch 40/200\n",
            "4/4 [==============================] - 0s 4ms/step - loss: 0.6942\n",
            "Epoch 41/200\n",
            "4/4 [==============================] - 0s 3ms/step - loss: 0.6933\n",
            "Epoch 42/200\n",
            "4/4 [==============================] - 0s 3ms/step - loss: 0.6924\n",
            "Epoch 43/200\n",
            "4/4 [==============================] - 0s 3ms/step - loss: 0.6915\n",
            "Epoch 44/200\n",
            "4/4 [==============================] - 0s 3ms/step - loss: 0.6906\n",
            "Epoch 45/200\n",
            "4/4 [==============================] - 0s 3ms/step - loss: 0.6897\n",
            "Epoch 46/200\n",
            "4/4 [==============================] - 0s 3ms/step - loss: 0.6888\n",
            "Epoch 47/200\n",
            "4/4 [==============================] - 0s 3ms/step - loss: 0.6879\n",
            "Epoch 48/200\n",
            "4/4 [==============================] - 0s 4ms/step - loss: 0.6871\n",
            "Epoch 49/200\n",
            "4/4 [==============================] - 0s 4ms/step - loss: 0.6862\n",
            "Epoch 50/200\n",
            "4/4 [==============================] - 0s 4ms/step - loss: 0.6853\n",
            "Epoch 51/200\n",
            "4/4 [==============================] - 0s 3ms/step - loss: 0.6845\n",
            "Epoch 52/200\n",
            "4/4 [==============================] - 0s 3ms/step - loss: 0.6836\n",
            "Epoch 53/200\n",
            "4/4 [==============================] - 0s 3ms/step - loss: 0.6827\n",
            "Epoch 54/200\n",
            "4/4 [==============================] - 0s 5ms/step - loss: 0.6818\n",
            "Epoch 55/200\n",
            "4/4 [==============================] - 0s 4ms/step - loss: 0.6810\n",
            "Epoch 56/200\n",
            "4/4 [==============================] - 0s 3ms/step - loss: 0.6802\n",
            "Epoch 57/200\n",
            "4/4 [==============================] - 0s 3ms/step - loss: 0.6794\n",
            "Epoch 58/200\n",
            "4/4 [==============================] - 0s 3ms/step - loss: 0.6785\n",
            "Epoch 59/200\n",
            "4/4 [==============================] - 0s 4ms/step - loss: 0.6777\n",
            "Epoch 60/200\n",
            "4/4 [==============================] - 0s 4ms/step - loss: 0.6768\n",
            "Epoch 61/200\n",
            "4/4 [==============================] - 0s 3ms/step - loss: 0.6760\n",
            "Epoch 62/200\n",
            "4/4 [==============================] - 0s 4ms/step - loss: 0.6752\n",
            "Epoch 63/200\n",
            "4/4 [==============================] - 0s 4ms/step - loss: 0.6744\n",
            "Epoch 64/200\n",
            "4/4 [==============================] - 0s 3ms/step - loss: 0.6736\n",
            "Epoch 65/200\n",
            "4/4 [==============================] - 0s 4ms/step - loss: 0.6727\n",
            "Epoch 66/200\n",
            "4/4 [==============================] - 0s 3ms/step - loss: 0.6719\n",
            "Epoch 67/200\n",
            "4/4 [==============================] - 0s 3ms/step - loss: 0.6711\n",
            "Epoch 68/200\n",
            "4/4 [==============================] - 0s 4ms/step - loss: 0.6703\n",
            "Epoch 69/200\n",
            "4/4 [==============================] - 0s 5ms/step - loss: 0.6695\n",
            "Epoch 70/200\n",
            "4/4 [==============================] - 0s 4ms/step - loss: 0.6687\n",
            "Epoch 71/200\n",
            "4/4 [==============================] - 0s 3ms/step - loss: 0.6679\n",
            "Epoch 72/200\n",
            "4/4 [==============================] - 0s 4ms/step - loss: 0.6671\n",
            "Epoch 73/200\n",
            "4/4 [==============================] - 0s 4ms/step - loss: 0.6663\n",
            "Epoch 74/200\n",
            "4/4 [==============================] - 0s 3ms/step - loss: 0.6656\n",
            "Epoch 75/200\n",
            "4/4 [==============================] - 0s 3ms/step - loss: 0.6648\n",
            "Epoch 76/200\n",
            "4/4 [==============================] - 0s 5ms/step - loss: 0.6640\n",
            "Epoch 77/200\n",
            "4/4 [==============================] - 0s 4ms/step - loss: 0.6632\n",
            "Epoch 78/200\n",
            "4/4 [==============================] - 0s 4ms/step - loss: 0.6625\n",
            "Epoch 79/200\n",
            "4/4 [==============================] - 0s 5ms/step - loss: 0.6617\n",
            "Epoch 80/200\n",
            "4/4 [==============================] - 0s 6ms/step - loss: 0.6609\n",
            "Epoch 81/200\n",
            "4/4 [==============================] - 0s 4ms/step - loss: 0.6602\n",
            "Epoch 82/200\n",
            "4/4 [==============================] - 0s 4ms/step - loss: 0.6594\n",
            "Epoch 83/200\n",
            "4/4 [==============================] - 0s 4ms/step - loss: 0.6586\n",
            "Epoch 84/200\n",
            "4/4 [==============================] - 0s 5ms/step - loss: 0.6579\n",
            "Epoch 85/200\n",
            "4/4 [==============================] - 0s 4ms/step - loss: 0.6571\n",
            "Epoch 86/200\n",
            "4/4 [==============================] - 0s 3ms/step - loss: 0.6564\n",
            "Epoch 87/200\n",
            "4/4 [==============================] - 0s 3ms/step - loss: 0.6556\n",
            "Epoch 88/200\n",
            "4/4 [==============================] - 0s 3ms/step - loss: 0.6549\n",
            "Epoch 89/200\n",
            "4/4 [==============================] - 0s 3ms/step - loss: 0.6542\n",
            "Epoch 90/200\n",
            "4/4 [==============================] - 0s 4ms/step - loss: 0.6535\n",
            "Epoch 91/200\n",
            "4/4 [==============================] - 0s 4ms/step - loss: 0.6527\n",
            "Epoch 92/200\n",
            "4/4 [==============================] - 0s 3ms/step - loss: 0.6520\n",
            "Epoch 93/200\n",
            "4/4 [==============================] - 0s 3ms/step - loss: 0.6513\n",
            "Epoch 94/200\n",
            "4/4 [==============================] - 0s 3ms/step - loss: 0.6505\n",
            "Epoch 95/200\n",
            "4/4 [==============================] - 0s 4ms/step - loss: 0.6498\n",
            "Epoch 96/200\n",
            "4/4 [==============================] - 0s 3ms/step - loss: 0.6491\n",
            "Epoch 97/200\n",
            "4/4 [==============================] - 0s 4ms/step - loss: 0.6484\n",
            "Epoch 98/200\n",
            "4/4 [==============================] - 0s 3ms/step - loss: 0.6477\n",
            "Epoch 99/200\n",
            "4/4 [==============================] - 0s 4ms/step - loss: 0.6470\n",
            "Epoch 100/200\n",
            "4/4 [==============================] - 0s 4ms/step - loss: 0.6463\n",
            "Epoch 101/200\n",
            "4/4 [==============================] - 0s 3ms/step - loss: 0.6456\n",
            "Epoch 102/200\n",
            "4/4 [==============================] - 0s 3ms/step - loss: 0.6449\n",
            "Epoch 103/200\n",
            "4/4 [==============================] - 0s 3ms/step - loss: 0.6442\n",
            "Epoch 104/200\n",
            "4/4 [==============================] - 0s 3ms/step - loss: 0.6435\n",
            "Epoch 105/200\n",
            "4/4 [==============================] - 0s 6ms/step - loss: 0.6428\n",
            "Epoch 106/200\n",
            "4/4 [==============================] - 0s 4ms/step - loss: 0.6422\n",
            "Epoch 107/200\n",
            "4/4 [==============================] - 0s 3ms/step - loss: 0.6415\n",
            "Epoch 108/200\n",
            "4/4 [==============================] - 0s 4ms/step - loss: 0.6408\n",
            "Epoch 109/200\n",
            "4/4 [==============================] - 0s 3ms/step - loss: 0.6402\n",
            "Epoch 110/200\n",
            "4/4 [==============================] - 0s 3ms/step - loss: 0.6395\n",
            "Epoch 111/200\n",
            "4/4 [==============================] - 0s 3ms/step - loss: 0.6388\n",
            "Epoch 112/200\n",
            "4/4 [==============================] - 0s 3ms/step - loss: 0.6381\n",
            "Epoch 113/200\n",
            "4/4 [==============================] - 0s 3ms/step - loss: 0.6375\n",
            "Epoch 114/200\n",
            "4/4 [==============================] - 0s 3ms/step - loss: 0.6368\n",
            "Epoch 115/200\n",
            "4/4 [==============================] - 0s 4ms/step - loss: 0.6362\n",
            "Epoch 116/200\n",
            "4/4 [==============================] - 0s 5ms/step - loss: 0.6355\n",
            "Epoch 117/200\n",
            "4/4 [==============================] - 0s 4ms/step - loss: 0.6349\n",
            "Epoch 118/200\n",
            "4/4 [==============================] - 0s 4ms/step - loss: 0.6342\n",
            "Epoch 119/200\n",
            "4/4 [==============================] - 0s 4ms/step - loss: 0.6336\n",
            "Epoch 120/200\n",
            "4/4 [==============================] - 0s 3ms/step - loss: 0.6330\n",
            "Epoch 121/200\n",
            "4/4 [==============================] - 0s 3ms/step - loss: 0.6323\n",
            "Epoch 122/200\n",
            "4/4 [==============================] - 0s 3ms/step - loss: 0.6317\n",
            "Epoch 123/200\n",
            "4/4 [==============================] - 0s 8ms/step - loss: 0.6311\n",
            "Epoch 124/200\n",
            "4/4 [==============================] - 0s 4ms/step - loss: 0.6304\n",
            "Epoch 125/200\n",
            "4/4 [==============================] - 0s 5ms/step - loss: 0.6298\n",
            "Epoch 126/200\n",
            "4/4 [==============================] - 0s 3ms/step - loss: 0.6292\n",
            "Epoch 127/200\n",
            "4/4 [==============================] - 0s 4ms/step - loss: 0.6286\n",
            "Epoch 128/200\n",
            "4/4 [==============================] - 0s 4ms/step - loss: 0.6280\n",
            "Epoch 129/200\n",
            "4/4 [==============================] - 0s 3ms/step - loss: 0.6274\n",
            "Epoch 130/200\n",
            "4/4 [==============================] - 0s 3ms/step - loss: 0.6268\n",
            "Epoch 131/200\n",
            "4/4 [==============================] - 0s 6ms/step - loss: 0.6261\n",
            "Epoch 132/200\n",
            "4/4 [==============================] - 0s 4ms/step - loss: 0.6255\n",
            "Epoch 133/200\n",
            "4/4 [==============================] - 0s 4ms/step - loss: 0.6249\n",
            "Epoch 134/200\n",
            "4/4 [==============================] - 0s 3ms/step - loss: 0.6243\n",
            "Epoch 135/200\n",
            "4/4 [==============================] - 0s 3ms/step - loss: 0.6237\n",
            "Epoch 136/200\n",
            "4/4 [==============================] - 0s 4ms/step - loss: 0.6231\n",
            "Epoch 137/200\n",
            "4/4 [==============================] - 0s 3ms/step - loss: 0.6225\n",
            "Epoch 138/200\n",
            "4/4 [==============================] - 0s 3ms/step - loss: 0.6220\n",
            "Epoch 139/200\n",
            "4/4 [==============================] - 0s 3ms/step - loss: 0.6214\n",
            "Epoch 140/200\n",
            "4/4 [==============================] - 0s 5ms/step - loss: 0.6208\n",
            "Epoch 141/200\n",
            "4/4 [==============================] - 0s 3ms/step - loss: 0.6202\n",
            "Epoch 142/200\n",
            "4/4 [==============================] - 0s 4ms/step - loss: 0.6197\n",
            "Epoch 143/200\n",
            "4/4 [==============================] - 0s 4ms/step - loss: 0.6191\n",
            "Epoch 144/200\n",
            "4/4 [==============================] - 0s 6ms/step - loss: 0.6185\n",
            "Epoch 145/200\n",
            "4/4 [==============================] - 0s 3ms/step - loss: 0.6179\n",
            "Epoch 146/200\n",
            "4/4 [==============================] - 0s 5ms/step - loss: 0.6174\n",
            "Epoch 147/200\n",
            "4/4 [==============================] - 0s 6ms/step - loss: 0.6168\n",
            "Epoch 148/200\n",
            "4/4 [==============================] - 0s 3ms/step - loss: 0.6162\n",
            "Epoch 149/200\n",
            "4/4 [==============================] - 0s 5ms/step - loss: 0.6157\n",
            "Epoch 150/200\n",
            "4/4 [==============================] - 0s 5ms/step - loss: 0.6151\n",
            "Epoch 151/200\n",
            "4/4 [==============================] - 0s 6ms/step - loss: 0.6145\n",
            "Epoch 152/200\n",
            "4/4 [==============================] - 0s 4ms/step - loss: 0.6140\n",
            "Epoch 153/200\n",
            "4/4 [==============================] - 0s 5ms/step - loss: 0.6134\n",
            "Epoch 154/200\n",
            "4/4 [==============================] - 0s 3ms/step - loss: 0.6129\n",
            "Epoch 155/200\n",
            "4/4 [==============================] - 0s 3ms/step - loss: 0.6123\n",
            "Epoch 156/200\n",
            "4/4 [==============================] - 0s 3ms/step - loss: 0.6118\n",
            "Epoch 157/200\n",
            "4/4 [==============================] - 0s 5ms/step - loss: 0.6112\n",
            "Epoch 158/200\n",
            "4/4 [==============================] - 0s 4ms/step - loss: 0.6107\n",
            "Epoch 159/200\n",
            "4/4 [==============================] - 0s 3ms/step - loss: 0.6102\n",
            "Epoch 160/200\n",
            "4/4 [==============================] - 0s 5ms/step - loss: 0.6096\n",
            "Epoch 161/200\n",
            "4/4 [==============================] - 0s 6ms/step - loss: 0.6091\n",
            "Epoch 162/200\n",
            "4/4 [==============================] - 0s 5ms/step - loss: 0.6086\n",
            "Epoch 163/200\n",
            "4/4 [==============================] - 0s 4ms/step - loss: 0.6080\n",
            "Epoch 164/200\n",
            "4/4 [==============================] - 0s 4ms/step - loss: 0.6075\n",
            "Epoch 165/200\n",
            "4/4 [==============================] - 0s 4ms/step - loss: 0.6070\n",
            "Epoch 166/200\n",
            "4/4 [==============================] - 0s 4ms/step - loss: 0.6065\n",
            "Epoch 167/200\n",
            "4/4 [==============================] - 0s 4ms/step - loss: 0.6060\n",
            "Epoch 168/200\n",
            "4/4 [==============================] - 0s 4ms/step - loss: 0.6054\n",
            "Epoch 169/200\n",
            "4/4 [==============================] - 0s 5ms/step - loss: 0.6049\n",
            "Epoch 170/200\n",
            "4/4 [==============================] - 0s 3ms/step - loss: 0.6045\n",
            "Epoch 171/200\n",
            "4/4 [==============================] - 0s 3ms/step - loss: 0.6039\n",
            "Epoch 172/200\n",
            "4/4 [==============================] - 0s 3ms/step - loss: 0.6034\n",
            "Epoch 173/200\n",
            "4/4 [==============================] - 0s 3ms/step - loss: 0.6029\n",
            "Epoch 174/200\n",
            "4/4 [==============================] - 0s 5ms/step - loss: 0.6024\n",
            "Epoch 175/200\n",
            "4/4 [==============================] - 0s 4ms/step - loss: 0.6019\n",
            "Epoch 176/200\n",
            "4/4 [==============================] - 0s 4ms/step - loss: 0.6014\n",
            "Epoch 177/200\n",
            "4/4 [==============================] - 0s 3ms/step - loss: 0.6009\n",
            "Epoch 178/200\n",
            "4/4 [==============================] - 0s 3ms/step - loss: 0.6004\n",
            "Epoch 179/200\n",
            "4/4 [==============================] - 0s 3ms/step - loss: 0.5999\n",
            "Epoch 180/200\n",
            "4/4 [==============================] - 0s 4ms/step - loss: 0.5994\n",
            "Epoch 181/200\n",
            "4/4 [==============================] - 0s 3ms/step - loss: 0.5989\n",
            "Epoch 182/200\n",
            "4/4 [==============================] - 0s 3ms/step - loss: 0.5985\n",
            "Epoch 183/200\n",
            "4/4 [==============================] - 0s 3ms/step - loss: 0.5980\n",
            "Epoch 184/200\n",
            "4/4 [==============================] - 0s 4ms/step - loss: 0.5975\n",
            "Epoch 185/200\n",
            "4/4 [==============================] - 0s 3ms/step - loss: 0.5970\n",
            "Epoch 186/200\n",
            "4/4 [==============================] - 0s 4ms/step - loss: 0.5965\n",
            "Epoch 187/200\n",
            "4/4 [==============================] - 0s 4ms/step - loss: 0.5960\n",
            "Epoch 188/200\n",
            "4/4 [==============================] - 0s 4ms/step - loss: 0.5956\n",
            "Epoch 189/200\n",
            "4/4 [==============================] - 0s 4ms/step - loss: 0.5951\n",
            "Epoch 190/200\n",
            "4/4 [==============================] - 0s 3ms/step - loss: 0.5946\n",
            "Epoch 191/200\n",
            "4/4 [==============================] - 0s 4ms/step - loss: 0.5942\n",
            "Epoch 192/200\n",
            "4/4 [==============================] - 0s 3ms/step - loss: 0.5937\n",
            "Epoch 193/200\n",
            "4/4 [==============================] - 0s 4ms/step - loss: 0.5932\n",
            "Epoch 194/200\n",
            "4/4 [==============================] - 0s 3ms/step - loss: 0.5927\n",
            "Epoch 195/200\n",
            "4/4 [==============================] - 0s 3ms/step - loss: 0.5923\n",
            "Epoch 196/200\n",
            "4/4 [==============================] - 0s 3ms/step - loss: 0.5918\n",
            "Epoch 197/200\n",
            "4/4 [==============================] - 0s 3ms/step - loss: 0.5914\n",
            "Epoch 198/200\n",
            "4/4 [==============================] - 0s 4ms/step - loss: 0.5909\n",
            "Epoch 199/200\n",
            "4/4 [==============================] - 0s 4ms/step - loss: 0.5905\n",
            "Epoch 200/200\n",
            "4/4 [==============================] - 0s 4ms/step - loss: 0.5900\n"
          ]
        }
      ]
    },
    {
      "cell_type": "code",
      "metadata": {
        "colab": {
          "base_uri": "https://localhost:8080/"
        },
        "id": "rMUf_M-H71f9",
        "outputId": "327a26c5-6dda-453e-b870-db4caf844298"
      },
      "source": [
        "# 7. 모델 테스트하기\n",
        "# score = model.evaluate(X_test, Y_test, verbose=0)\n",
        "test_data = np.array([[0,1],[1,0],[1,1]])\n",
        "result = model.predict(test_data)\n",
        "print(result)"
      ],
      "execution_count": null,
      "outputs": [
        {
          "output_type": "stream",
          "name": "stdout",
          "text": [
            "[[0.54204494]\n",
            " [0.40318096]\n",
            " [0.5622356 ]]\n"
          ]
        }
      ]
    },
    {
      "cell_type": "code",
      "metadata": {
        "colab": {
          "base_uri": "https://localhost:8080/"
        },
        "id": "B5LKX6iNFd-I",
        "outputId": "d5a85c98-26f9-4773-d199-8d7a893138f2"
      },
      "source": [
        "# Parameter 확인\n",
        "model.get_weights()"
      ],
      "execution_count": null,
      "outputs": [
        {
          "output_type": "execute_result",
          "data": {
            "text/plain": [
              "[array([[0.08166226],\n",
              "        [0.6424686 ]], dtype=float32), array([-0.47389075], dtype=float32)]"
            ]
          },
          "metadata": {},
          "execution_count": 26
        }
      ]
    }
  ]
}