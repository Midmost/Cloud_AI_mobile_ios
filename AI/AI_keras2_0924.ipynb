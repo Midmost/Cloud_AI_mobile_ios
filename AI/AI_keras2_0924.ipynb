{
  "nbformat": 4,
  "nbformat_minor": 0,
  "metadata": {
    "colab": {
      "name": "AI_keras2_0924.ipynb",
      "private_outputs": true,
      "provenance": [],
      "collapsed_sections": [
        "yH4Gv8b6dUup"
      ],
      "authorship_tag": "ABX9TyOjjH1n0IQtvw8tiJIz0T7O",
      "include_colab_link": true
    },
    "kernelspec": {
      "name": "python3",
      "display_name": "Python 3"
    },
    "language_info": {
      "name": "python"
    }
  },
  "cells": [
    {
      "cell_type": "markdown",
      "metadata": {
        "id": "view-in-github",
        "colab_type": "text"
      },
      "source": [
        "<a href=\"https://colab.research.google.com/github/Midmost/Cloud_AI_mobile_ios/blob/main/AI/AI_keras2_0924.ipynb\" target=\"_parent\"><img src=\"https://colab.research.google.com/assets/colab-badge.svg\" alt=\"Open In Colab\"/></a>"
      ]
    },
    {
      "cell_type": "markdown",
      "metadata": {
        "id": "ZnqPwDuccsz_"
      },
      "source": [
        "# 희지니 첫 신경망 히히"
      ]
    },
    {
      "cell_type": "markdown",
      "metadata": {
        "id": "g4q8p_Ur5pNl"
      },
      "source": [
        "## AI의 민주화를 꿈꾸며 나온 케라스"
      ]
    },
    {
      "cell_type": "markdown",
      "metadata": {
        "id": "b0gafW-ndCmr"
      },
      "source": [
        "마이크로소프트...\n",
        "CNTK .... cognitive tool kit "
      ]
    },
    {
      "cell_type": "markdown",
      "metadata": {
        "id": "yH4Gv8b6dUup"
      },
      "source": [
        "## Decision Tree\n",
        "\n",
        "classification에 많이 씀"
      ]
    },
    {
      "cell_type": "markdown",
      "metadata": {
        "id": "v8l7_HIhd03F"
      },
      "source": [
        "## Deep Learning"
      ]
    },
    {
      "cell_type": "markdown",
      "metadata": {
        "id": "STKUwaKcfFcx"
      },
      "source": [
        "입력 -> 반복( 레이어 -> 예측값 + 진짜 타깃 -> 손실함수 -> 손실점수 -> 최적화 -> 가중치 업데이트 -> 변경된 가중치로 새로 돌림 )\n",
        "\n",
        "원본 데이터와 얼마나 맞고 정확하냐 : 훈련데이터\n",
        "이 데이터와 전혀 상관없는 데이터 : 테스트데이터\n",
        "\n",
        "테스트 데이터 점수가 잘 나왔다? 좋은 모델!"
      ]
    },
    {
      "cell_type": "markdown",
      "metadata": {
        "id": "g8wvvFjof2mb"
      },
      "source": [
        "훈련데이터에 매몰되어 테스트데이터가 쀼쀼되는거"
      ]
    },
    {
      "cell_type": "markdown",
      "metadata": {
        "id": "KiVUIncfhltv"
      },
      "source": [
        "#### loss function \n",
        "\n",
        "딥러닝을 레고블럭으로 생각하여 끼워맞춘다고 생각하자 "
      ]
    },
    {
      "cell_type": "markdown",
      "metadata": {
        "id": "rsGGTZxThxpf"
      },
      "source": [
        "MSE \n",
        "\n",
        "regression 용"
      ]
    },
    {
      "cell_type": "markdown",
      "metadata": {
        "id": "tAJGu6jqiQcB"
      },
      "source": [
        "RMSE\n",
        "\n",
        "mse에 루트 씌운 거 \n",
        "\n",
        "손실함수 중 일반적으로 많이 쓰이는 함수 "
      ]
    },
    {
      "cell_type": "markdown",
      "metadata": {
        "id": "aDTd3IGPithn"
      },
      "source": [
        "알고리즘\n",
        "\n",
        "binary crossentropy\n",
        "주로 classfication 에서 쓰이면 좋은 알고리즘\n",
        "\n",
        "categorical crossentropy\n",
        "softmax 다음에 넣는 편인데 \n",
        "= 멀티클래스 분류에 많이 쓰이는 편"
      ]
    },
    {
      "cell_type": "markdown",
      "metadata": {
        "id": "GxjhcH2UjHqK"
      },
      "source": [
        "tf.keras.losses 한 번 보면 좋을 듯 해 하지만 쓰는 것만 쓰기 때문에..."
      ]
    },
    {
      "cell_type": "markdown",
      "metadata": {
        "id": "BEtJOZT4jzlB"
      },
      "source": [
        "https://youtu.be/Ilg3gGewQ5U"
      ]
    },
    {
      "cell_type": "markdown",
      "metadata": {
        "id": "AR2fnetyqbLl"
      },
      "source": [
        "### Momentum\n",
        "\n",
        "앞의 고개를 넘을만큼의 힘이 있느냐\n",
        "\n",
        "일반적으로 GD는 잘 사용 안 하고 SGD를 많이 사용해 \n",
        "\n",
        "모멘텀은 보폭이 중요한 게 아니라 앞으로 가는 힘이 물리적인 힘(관성)에 의해 얼마나 갈건지 결정하는 거\n",
        "반대는 RMSProp으로 보는거 \n",
        "\n",
        "요즘에는 RMSProp이랑 ADAM을 많이 쓴댜!!!"
      ]
    },
    {
      "cell_type": "code",
      "metadata": {
        "id": "vtlLCvgUcklJ"
      },
      "source": [
        "# 신경망, 활성화 함수, 옵티마이저를 뭘로 쓸 건지! 이 개념을 이해하자"
      ],
      "execution_count": null,
      "outputs": []
    },
    {
      "cell_type": "code",
      "metadata": {
        "id": "L4QlEpQNr-vs"
      },
      "source": [
        "import keras\n",
        "keras.__version__"
      ],
      "execution_count": null,
      "outputs": []
    },
    {
      "cell_type": "code",
      "metadata": {
        "id": "xgwCPVzzsC5h"
      },
      "source": [
        "!pip install tensorflow\n",
        "!pip install keras"
      ],
      "execution_count": null,
      "outputs": []
    },
    {
      "cell_type": "code",
      "metadata": {
        "id": "2oNxWb11sIXA"
      },
      "source": [
        "from keras.datasets import mnist"
      ],
      "execution_count": null,
      "outputs": []
    },
    {
      "cell_type": "code",
      "metadata": {
        "id": "n7gr99thsjJ9"
      },
      "source": [
        "(train_images, train_labels), (test_images, test_labels) = mnist.load_data()"
      ],
      "execution_count": null,
      "outputs": []
    },
    {
      "cell_type": "code",
      "metadata": {
        "id": "ZtAra5rgsWNl"
      },
      "source": [
        "train_images.shape # shape 확인"
      ],
      "execution_count": null,
      "outputs": []
    },
    {
      "cell_type": "code",
      "metadata": {
        "id": "x6js3_Dxsr_Z"
      },
      "source": [
        "import matplotlib.pyplot as plt"
      ],
      "execution_count": null,
      "outputs": []
    },
    {
      "cell_type": "markdown",
      "metadata": {
        "id": "CTgAGeGetEXp"
      },
      "source": [
        "## Make NeuralNet"
      ]
    },
    {
      "cell_type": "code",
      "metadata": {
        "id": "LQyXrYVss6CA"
      },
      "source": [
        "from keras import models # 모델이 더 큰 개념\n",
        "from keras import layers # 각 각의 층"
      ],
      "execution_count": null,
      "outputs": []
    },
    {
      "cell_type": "code",
      "metadata": {
        "id": "WYLN5i1vtDVe"
      },
      "source": [
        "network = models.Sequential() # 이 모델의 이름은 넽웤\n",
        "\n",
        "#레이어 추가\n",
        "network.add(layers.Dense(512, activation='relu', input_shape=(28*28,)))  # 꼭 512일 필요는 없는데 이 숫자가 잘 나온다는데...\n",
        "network.add(layers.Dense(10, activation='softmax', input_shape=(28*28,))) #출력을 10개의 신경망으로 0 ~ 9까지 분류\n",
        "# 이렇게 다중으로 분류하는 문제는 대부분 소프트맥스로 (10개 중에서 어디로 갈 지!)\n",
        "# 위의 신경망은 이미지를 처리하는 신경망이 아니라 데이터를 처리하는 신경망인거야 헛갈리지마! 결과물이 이미지라고 해서 이미지처리 신경망은 아니야"
      ],
      "execution_count": null,
      "outputs": []
    },
    {
      "cell_type": "markdown",
      "metadata": {
        "id": "QUd1LdhKunYT"
      },
      "source": [
        "## Compile\n",
        "설계한 신경망을 최종적인 모델로 만들어 낼 때 compile이란 명령어를 사용한다"
      ]
    },
    {
      "cell_type": "code",
      "metadata": {
        "id": "seFvyLq3uL-9"
      },
      "source": [
        "network.compile(optimizer='rmsprop',\n",
        "                loss = 'categorical_crossentropy',  # multi classification\n",
        "                metrics=['accuracy'])               # it's ok to skip, but if the source code is diefferent, it will needs be"
      ],
      "execution_count": null,
      "outputs": []
    },
    {
      "cell_type": "code",
      "metadata": {
        "id": "HlpuhNZiu5fb"
      },
      "source": [
        "train_images.dtype"
      ],
      "execution_count": null,
      "outputs": []
    },
    {
      "cell_type": "markdown",
      "metadata": {
        "id": "pi-vPQn7vamt"
      },
      "source": [
        "uint음수가 없는 정수형\n",
        "\n",
        "근데 신경망을 학습하기 위해서는 float으로 해줘야 해\n",
        "float으로 바꿔주기 전에 일단 계산을 용이하게 해주기 위해 reshape을 해주자"
      ]
    },
    {
      "cell_type": "code",
      "metadata": {
        "id": "30MvJsIgvXCe"
      },
      "source": [
        "train_images = train_images.reshape((60000, 28*28)) # 60000 x 28 x 28 -> 60000 X 784\n",
        "\n",
        "# 내가 원하는 부분만 뽑아내거나 \n",
        "# 차원축소를 하여 계산을 용이하게 하고 싶을 때 reshape을 쓴다"
      ],
      "execution_count": null,
      "outputs": []
    },
    {
      "cell_type": "code",
      "metadata": {
        "id": "87hjfHRywoEm"
      },
      "source": [
        "train_images = train_images.astype('float32')/255  # 0 ~ 255의 숫자가 있을 때 255로 나누게 되면 0이하의 값만 나오게 된다. "
      ],
      "execution_count": null,
      "outputs": []
    },
    {
      "cell_type": "code",
      "metadata": {
        "id": "sDuC-7S2xbQO"
      },
      "source": [
        "train_images[:5] # numpy에서 판다스의 head 기능을 쓰려면 슬라이싱을 쓰자 "
      ],
      "execution_count": null,
      "outputs": []
    },
    {
      "cell_type": "markdown",
      "metadata": {
        "id": "cMeLzMDHxE06"
      },
      "source": [
        "이제 학습용데이터 준비가 끝났으니 테스트용 데이터를 만들자"
      ]
    },
    {
      "cell_type": "code",
      "metadata": {
        "id": "EERE-M7uxJ1y"
      },
      "source": [
        "test_images = test_images.reshape((10000, 28*28))\n",
        "test_images = test_images.astype('float32')/255"
      ],
      "execution_count": null,
      "outputs": []
    },
    {
      "cell_type": "code",
      "metadata": {
        "id": "j7A7vfg_xXEh"
      },
      "source": [
        "# 숫자처럼 보이지만 분류하기 위한 분류 기준이다 강제로 설정을 해주려면 "
      ],
      "execution_count": null,
      "outputs": []
    },
    {
      "cell_type": "code",
      "metadata": {
        "id": "JdMFW3cKxfxG"
      },
      "source": [
        "from tensorflow.keras.utils import to_categorical\n",
        "\n",
        "train_labels = to_categorical(train_labels) # 이렇게 하면 학습에 필요한 데이터들이 0부터 9까지 있을거야 딱 나뉘어서\n",
        "test_labels = to_categorical(test_labels)"
      ],
      "execution_count": null,
      "outputs": []
    },
    {
      "cell_type": "code",
      "metadata": {
        "id": "QpAH9Jn7yIEc"
      },
      "source": [
        "network.fit(train_images, train_labels, epochs=5, batch_size=128) # 5바퀴만 돌려볼게유  "
      ],
      "execution_count": null,
      "outputs": []
    },
    {
      "cell_type": "markdown",
      "metadata": {
        "id": "feGJ7YXv2lN3"
      },
      "source": [
        "여기까지 되었다는건 이 network에 학습이 되었다는 뜻"
      ]
    },
    {
      "cell_type": "code",
      "metadata": {
        "id": "ZK_naLaE1g8z"
      },
      "source": [
        "test_loss, test_acc = network.evaluate(test_images, test_labels)\n",
        "# 테스트용 데이터가는 0.97이네? 역시 학습용데이터 0.98보다는 정확도가 좀 적군"
      ],
      "execution_count": null,
      "outputs": []
    },
    {
      "cell_type": "markdown",
      "metadata": {
        "id": "GPTVWQJV6Cik"
      },
      "source": [
        "이제 돌리면 돌릴수록 테스트용 데이터의 정확도가 떨어져 overfitting 과적합\n",
        "과적합과 저적합 사이에서 가장 좋은 지점을 찾는 것이 우리의 목표"
      ]
    },
    {
      "cell_type": "code",
      "metadata": {
        "id": "w6qRXv3_6jZh"
      },
      "source": [
        "# 최종 결과\n",
        "print('test_acc:', test_acc)"
      ],
      "execution_count": null,
      "outputs": []
    },
    {
      "cell_type": "markdown",
      "metadata": {
        "id": "M3h3f9Gf61g-"
      },
      "source": [
        "정확도가 더 좋아질 지 안 좋아질 지 궁금하니까 확인해보려면 epochs = 20으로 함 해보자"
      ]
    },
    {
      "cell_type": "code",
      "metadata": {
        "id": "V6buiip-6-Lq"
      },
      "source": [
        "network.fit(train_images, train_labels, epochs=20, batch_size=128)"
      ],
      "execution_count": null,
      "outputs": []
    }
  ]
}