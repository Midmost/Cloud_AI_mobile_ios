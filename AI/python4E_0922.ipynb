{
  "nbformat": 4,
  "nbformat_minor": 0,
  "metadata": {
    "colab": {
      "name": "python4E-0922.ipynb",
      "private_outputs": true,
      "provenance": [],
      "authorship_tag": "ABX9TyN04GJ5ShObdYfyDNm2Hr2L",
      "include_colab_link": true
    },
    "kernelspec": {
      "name": "python3",
      "display_name": "Python 3"
    },
    "language_info": {
      "name": "python"
    }
  },
  "cells": [
    {
      "cell_type": "markdown",
      "metadata": {
        "id": "view-in-github",
        "colab_type": "text"
      },
      "source": [
        "<a href=\"https://colab.research.google.com/github/Midmost/Cloud_AI_mobile_ios/blob/main/AI/python4E_0922.ipynb\" target=\"_parent\"><img src=\"https://colab.research.google.com/assets/colab-badge.svg\" alt=\"Open In Colab\"/></a>"
      ]
    },
    {
      "cell_type": "markdown",
      "metadata": {
        "id": "W3LG0sfeheij"
      },
      "source": [
        "## 사용자에게 시간(Hours)과 시급(Rate)을 입력값으로 받아 급여를 계산하는 프로그램을 만들기\n",
        "\n",
        "Enter Hours: 35\n",
        "\n",
        "Enter Rate: 2.75\n",
        "\n",
        "Pay: 96.25"
      ]
    },
    {
      "cell_type": "code",
      "metadata": {
        "id": "SME-qb22hGKl"
      },
      "source": [
        "EnterHours = input('Enter Hours: ')\n",
        "EnterRate = input('Enter Rate: ')\n",
        "\n",
        "pay = int(EnterHours) * float(EnterRate)\n",
        "print('Pay: ', pay)"
      ],
      "execution_count": null,
      "outputs": []
    }
  ]
}