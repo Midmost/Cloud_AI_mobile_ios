{
  "nbformat": 4,
  "nbformat_minor": 0,
  "metadata": {
    "colab": {
      "name": "python4E-0922.ipynb",
      "private_outputs": true,
      "provenance": [],
      "collapsed_sections": [],
      "authorship_tag": "ABX9TyPZdxdE+IsnqhejSdZAUnOe",
      "include_colab_link": true
    },
    "kernelspec": {
      "name": "python3",
      "display_name": "Python 3"
    },
    "language_info": {
      "name": "python"
    }
  },
  "cells": [
    {
      "cell_type": "markdown",
      "metadata": {
        "id": "view-in-github",
        "colab_type": "text"
      },
      "source": [
        "<a href=\"https://colab.research.google.com/github/Midmost/Cloud_AI_mobile_ios/blob/main/AI/python4E_0922.ipynb\" target=\"_parent\"><img src=\"https://colab.research.google.com/assets/colab-badge.svg\" alt=\"Open In Colab\"/></a>"
      ]
    },
    {
      "cell_type": "markdown",
      "metadata": {
        "id": "W3LG0sfeheij"
      },
      "source": [
        "## 사용자에게 시간(Hours)과 시급(Rate)을 입력값으로 받아 급여를 계산하는 프로그램을 만들기\n",
        "\n",
        "Enter Hours: 35\n",
        "\n",
        "Enter Rate: 2.75\n",
        "\n",
        "Pay: 96.25"
      ]
    },
    {
      "cell_type": "code",
      "metadata": {
        "id": "SME-qb22hGKl"
      },
      "source": [
        "EnterHours = input('Enter Hours: ')\n",
        "EnterRate = input('Enter Rate: ')\n",
        "\n",
        "pay = int(EnterHours) * float(EnterRate)\n",
        "print('Pay: ', pay)"
      ],
      "execution_count": null,
      "outputs": []
    },
    {
      "cell_type": "markdown",
      "metadata": {
        "id": "5hVtgQuMob1F"
      },
      "source": [
        "## OverTime 비용 계산하여 만약 40시간 이상 일한 경우 1.5배 수당 지급하기"
      ]
    },
    {
      "cell_type": "markdown",
      "metadata": {
        "id": "a-OlHVlbNmmd"
      },
      "source": [
        "Try and Except 개념 넣어서 하기"
      ]
    },
    {
      "cell_type": "code",
      "metadata": {
        "id": "A_irFenCkfqK"
      },
      "source": [
        "\n",
        "try:\n",
        "    EnterHours = float(input('Enter Hours: '))\n",
        "    EnterRate = float(input('Enter Rate: '))\n",
        "except:\n",
        "    print(\"Error, please enter numeric input\")\n",
        "    quit()\n",
        "\n",
        "if EnterHours > 40:\n",
        "  print(\"Overtime!\")\n",
        "  regularPay = EnterHours * EnterRate\n",
        "  OverTimePay = (1.5)*(EnterHours - 40) # 시간 외 수당이면 시급 * 1.5 인가?\n",
        "  pay = regularPay + OverTimePay\n",
        "else:\n",
        "  pay = EnterHours * EnterRate\n",
        "print('Pay: ', pay)"
      ],
      "execution_count": null,
      "outputs": []
    },
    {
      "cell_type": "markdown",
      "metadata": {
        "id": "C6LRTej8NrX0"
      },
      "source": [
        "# Exercise 01\n",
        "\n",
        "Write a program which repeatedly reads numbers until the user enters “done”.\n",
        "\n",
        "Once “done” is entered print out the total, count, and average of the numbers.\n",
        "\n",
        "If the user enters anything other than a number, \n",
        "\n",
        "detect their mistake using try and except and print an error message and skip to the next number. "
      ]
    },
    {
      "cell_type": "code",
      "metadata": {
        "id": "794OrNZCkkP-"
      },
      "source": [
        "total = 0.0\n",
        "num = 0\n",
        "\n",
        "while True:\n",
        "  EnterStr = input('Enter numbers: ')\n",
        "  if EnterStr == 'done':\n",
        "    break\n",
        "  try:\n",
        "    EnterNum = float(EnterStr)\n",
        "  except:\n",
        "    print('Invalid number')\n",
        "    continue\n",
        "\n",
        "  num += 1\n",
        "  total += EnterNum\n",
        "\n",
        "#print(\"total: \"+total, \"num: \"+ num, \"result: \"+ total/num)\n",
        "print(total)\n",
        "\n",
        "\n"
      ],
      "execution_count": null,
      "outputs": []
    },
    {
      "cell_type": "markdown",
      "metadata": {
        "id": "XczK7jT3pxhu"
      },
      "source": [
        "# 반복문"
      ]
    },
    {
      "cell_type": "code",
      "metadata": {
        "id": "P1JA4-aGXAbm"
      },
      "source": [
        "x = 0\n",
        "while x < 10:\n",
        "  if x < 10:\n",
        "    x = x + 1\n",
        "  elif x > 6:\n",
        "    print(x)\n",
        "\n",
        "print(x)\n"
      ],
      "execution_count": null,
      "outputs": []
    },
    {
      "cell_type": "markdown",
      "metadata": {
        "id": "2yKCnCkrp163"
      },
      "source": [
        "# 문자열"
      ]
    },
    {
      "cell_type": "code",
      "metadata": {
        "id": "EG3r9BgpirHK"
      },
      "source": [
        "myString = 'Monty Python'\n",
        "print(myString[:2])\n",
        "print(myString[8:])"
      ],
      "execution_count": null,
      "outputs": []
    },
    {
      "cell_type": "markdown",
      "metadata": {
        "id": "dFptRDWwoBRN"
      },
      "source": [
        "in이 논리연산자임 값이 True False 형태로 나오는거임"
      ]
    },
    {
      "cell_type": "code",
      "metadata": {
        "id": "gltdMj5-ntvc"
      },
      "source": [
        "fruit = 'banana'\n",
        "print('n' in fruit)\n",
        "# True로 출력됨\n",
        "print('m' in fruit)\n",
        "# False로 출력됨\n",
        "print('nan' in fruit)\n",
        "# True로 출력됨\n",
        "if 'a' in fruit :\n",
        "    print('Found it!')\n",
        "# Found it으로 출력됨"
      ],
      "execution_count": null,
      "outputs": []
    },
    {
      "cell_type": "markdown",
      "metadata": {
        "id": "yTomq8fnoWd6"
      },
      "source": [
        "strip이 lstrip, rstrip 나뉘는지는 까먹었었넴...ㅋ"
      ]
    },
    {
      "cell_type": "code",
      "metadata": {
        "id": "WlbcUxjRobPL"
      },
      "source": [
        "greet = '                     Hello Bob       '\n",
        "greet.lstrip()\n",
        "# 왼쪽의 공백이 삭제됨\n",
        "greet.rstrip()\n",
        "# 오른쪽의 공백이 삭제됨\n",
        "greet.strip()\n",
        "# 양쪽의 공백이 삭제됨"
      ],
      "execution_count": null,
      "outputs": []
    },
    {
      "cell_type": "code",
      "metadata": {
        "id": "RONwkB-MondZ"
      },
      "source": [
        "line = 'Please have a nice day'\n",
        "print(line.startswith('Please'))\n",
        "# True가 출력됨\n",
        "print(line.startswith('p'))\n",
        "# False가 출력됨 : 대소문자 구분"
      ],
      "execution_count": null,
      "outputs": []
    },
    {
      "cell_type": "code",
      "metadata": {
        "id": "4Wy6p8mhoxzY"
      },
      "source": [
        "str = 'X-DSPM-Confidence: 0.8475'\n",
        "\n",
        "idxPos = str.find(':') \n",
        "# :가 있는 인덱스넘버가 숫자로 나올거임\n",
        "piece = str[idxPos+2:]\n",
        "value = float(piece)\n",
        "print(value)\n",
        "\n"
      ],
      "execution_count": null,
      "outputs": []
    },
    {
      "cell_type": "code",
      "metadata": {
        "id": "H88z_gVdoy6Q"
      },
      "source": [
        "words = 'hello bitches'\n",
        "\n",
        "if 'b' in words:\n",
        "  words.lower()\n",
        "  # words[5] = '&'              //'str' object does not support item assignment\n",
        "else:\n",
        "  print(words)\n",
        "\n",
        "print(words)\n",
        "\n",
        "print(words[5])"
      ],
      "execution_count": null,
      "outputs": []
    },
    {
      "cell_type": "markdown",
      "metadata": {
        "id": "KOCopJpA9J2Q"
      },
      "source": [
        "## 딕셔너리"
      ]
    },
    {
      "cell_type": "markdown",
      "metadata": {
        "id": "8kyCSeAR9C7o"
      },
      "source": [
        "### get 메소드\n",
        "이와 같이 딕셔너리에 존재하는 키인지 아닌지 여부에 따라 처리하는 패턴은 get이라는 메소드를 사용해서 간결하게 해결할 수 있습니다.\n",
        "\n",
        "여기에서 counts.get(name, 0)의 의미는 counts 딕셔너리에 name이라는 키가 존재할 경우 name에 대한 값을 불러오고,\n",
        "그렇지 않을 경우에는 counts 딕셔너리에 name이라는 키에 0이라는 값을 갖는 데이터를 추가하라는 의미입니다."
      ]
    },
    {
      "cell_type": "code",
      "metadata": {
        "id": "QaE_8E_lqM7U"
      },
      "source": [
        "counts = dict()\n",
        "names = ['csev', 'cwen', 'csev', 'zqian', 'cwen']\n",
        "for name in names :\n",
        "    counts[name] = counts.get(name, 0) + 1      # get ==  1. read 2. add\n",
        "print(counts)\n",
        "\n",
        "# {'csev': 2, 'zqian': 1, 'cwen': 2}\n",
        "# type(counts['csev'])\n",
        "# counts['csev']"
      ],
      "execution_count": null,
      "outputs": []
    },
    {
      "cell_type": "markdown",
      "metadata": {
        "id": "IwcXxVVPA9Nq"
      },
      "source": [
        "Writing programs (or programming) is a very creative and rewarding activity.  You can write programs for many reasons ranging from making your living to solving a difficult data analysis problem to having fun to helping someone else solve a problem.  This book assumes that everyone needs to know how to program and that once you know how to program, you will figure out what you want to do with your newfound skills.\n",
        "\n",
        "각 각의 단어가 총 몇 번 반복되어 나오는지 프린트하시오"
      ]
    },
    {
      "cell_type": "code",
      "metadata": {
        "id": "EkBsFyQe9k9K"
      },
      "source": [
        "phase = 'Writing programs (or programming) is a very creative and rewarding activity. You can write programs for many reasons ranging from making your living to solving a difficult data analysis problem to having fun to helping someone else solve a problem. This book assumes that everyone needs to know how to program and that once you know how to program, you will figure out what you want to do with your newfound skills'\n",
        "words = phase.split(\" \")\n",
        "counts = dict()\n",
        "\n",
        "for word in words:\n",
        "  counts[word] = counts.get(word, 0) + 1\n",
        "\n",
        "print(counts)"
      ],
      "execution_count": null,
      "outputs": []
    },
    {
      "cell_type": "markdown",
      "metadata": {
        "id": "UKxbNNwuCuQ2"
      },
      "source": [
        "딕셔너리에 저장된 데이터 접근 및 사용을 위한 for 이용"
      ]
    },
    {
      "cell_type": "code",
      "metadata": {
        "id": "tHqYFWQ9Bimr"
      },
      "source": [
        "def shortCount():\n",
        "  for key in counts:\n",
        "      if counts[key] > 1:\n",
        "        print(key, counts[key])\n",
        "  return\n",
        "        \n",
        "\n",
        "print(shortCount())\n",
        "# 이 함수를 딕셔너리로 바꾸고 싶다"
      ],
      "execution_count": null,
      "outputs": []
    },
    {
      "cell_type": "markdown",
      "metadata": {
        "id": "ROQkAUgtDaXA"
      },
      "source": [
        "딕셔너리를 리스트로 변환하면 키값이 나올까 밸루값이 나올까?"
      ]
    },
    {
      "cell_type": "code",
      "metadata": {
        "id": "N67EdQw3Djzs"
      },
      "source": [
        "# 정답 키값이 나온다\n",
        "list(counts)"
      ],
      "execution_count": null,
      "outputs": []
    },
    {
      "cell_type": "code",
      "metadata": {
        "id": "vXabigooGgGz"
      },
      "source": [
        "jjj = { 'chuck' : 1 , 'fred' : 42, 'jan': 100}\n",
        "print(jjj.values())\n",
        "print(jjj.keys())"
      ],
      "execution_count": null,
      "outputs": []
    },
    {
      "cell_type": "code",
      "metadata": {
        "id": "9U2JOTcPHROX"
      },
      "source": [
        ""
      ],
      "execution_count": null,
      "outputs": []
    }
  ]
}