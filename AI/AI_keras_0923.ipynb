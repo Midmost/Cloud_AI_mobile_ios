{
  "nbformat": 4,
  "nbformat_minor": 0,
  "metadata": {
    "colab": {
      "name": "AI_keras_0923.ipynb",
      "private_outputs": true,
      "provenance": [],
      "collapsed_sections": [],
      "authorship_tag": "ABX9TyNkPIgvV0algEaeaWIFhURV",
      "include_colab_link": true
    },
    "kernelspec": {
      "name": "python3",
      "display_name": "Python 3"
    },
    "language_info": {
      "name": "python"
    }
  },
  "cells": [
    {
      "cell_type": "markdown",
      "metadata": {
        "id": "view-in-github",
        "colab_type": "text"
      },
      "source": [
        "<a href=\"https://colab.research.google.com/github/Midmost/Cloud_AI_mobile_ios/blob/main/AI/AI_keras_0923.ipynb\" target=\"_parent\"><img src=\"https://colab.research.google.com/assets/colab-badge.svg\" alt=\"Open In Colab\"/></a>"
      ]
    },
    {
      "cell_type": "code",
      "metadata": {
        "id": "939OUeHnhxdP"
      },
      "source": [
        "import keras\n",
        "keras.__version__\n"
      ],
      "execution_count": null,
      "outputs": []
    },
    {
      "cell_type": "markdown",
      "metadata": {
        "id": "3h0FFGBDiYa3"
      },
      "source": [
        "머신러닝 같을 경우에는 될 때까지 사람이 고민을 해야한다면 \n",
        "딥러닝은 기계한테 알아서\n",
        "\n",
        "이 때 손실함수라는 개념이 나오는데\n",
        "손실이 높으면 다시 첫단계로 돌아가서 가중치를 조정해서 다시 돌려\n",
        "이 가중치를 조정해주는 걸 바로 optimiser라고 한다. \n",
        "시간이 지나 가장 안정적인 가중치를 갖게 되는 게 딥러닝의 방법\n",
        "가장 좋은 가중치를 알기 위해 빨리 더 많이 돌려야 하기 때문에 강력한 GPU가 필요해짐"
      ]
    },
    {
      "cell_type": "code",
      "metadata": {
        "id": "1mB0DSzDh6ud"
      },
      "source": [
        "from keras.datasets import mnist"
      ],
      "execution_count": null,
      "outputs": []
    },
    {
      "cell_type": "code",
      "metadata": {
        "id": "8hQvxc3ejXgW"
      },
      "source": [
        "(train_images, train_labels), (test_images, test_labels) = mnist.load_data()"
      ],
      "execution_count": null,
      "outputs": []
    },
    {
      "cell_type": "code",
      "metadata": {
        "id": "W-ZF4yssje7k"
      },
      "source": [
        "train_images.shape"
      ],
      "execution_count": null,
      "outputs": []
    },
    {
      "cell_type": "code",
      "metadata": {
        "id": "aDPmunTuj7o-"
      },
      "source": [
        "train_labels.shape"
      ],
      "execution_count": null,
      "outputs": []
    },
    {
      "cell_type": "code",
      "metadata": {
        "id": "BZQKK39FkFht"
      },
      "source": [
        "#test용 데이터도 확인하자\n",
        "test_images.shape"
      ],
      "execution_count": null,
      "outputs": []
    },
    {
      "cell_type": "markdown",
      "metadata": {
        "id": "SE2_rPWWkO_k"
      },
      "source": [
        "테스트 용이라서 만 개인데 여기서 구천개의 데이터를 맞추면 정확도가 90%가 될거야"
      ]
    },
    {
      "cell_type": "code",
      "metadata": {
        "id": "6JH-_F7wkKo3"
      },
      "source": [
        "test_labels.shape"
      ],
      "execution_count": null,
      "outputs": []
    },
    {
      "cell_type": "code",
      "metadata": {
        "id": "oviS_m8skWR6"
      },
      "source": [
        "import matplotlib.pyplot as plt"
      ],
      "execution_count": null,
      "outputs": []
    },
    {
      "cell_type": "code",
      "metadata": {
        "id": "4mKz0zKKkcM7"
      },
      "source": [
        "#4번째 이미지를 뽑아보자\n",
        "digit = train_images[4]\n",
        "plt.imshow(digit, cmap=plt.cm.binary)"
      ],
      "execution_count": null,
      "outputs": []
    },
    {
      "cell_type": "code",
      "metadata": {
        "id": "xDGIgIo2kmiE"
      },
      "source": [
        "from keras import models\n",
        "from keras import layers"
      ],
      "execution_count": null,
      "outputs": []
    },
    {
      "cell_type": "markdown",
      "metadata": {
        "id": "ApkP-Sb7lZsV"
      },
      "source": [
        "neural network을 만들거고 layer가 추가가 될거야 이를 위해 노드를 추가할 거야\n"
      ]
    },
    {
      "cell_type": "code",
      "metadata": {
        "id": "mrKLiXGdlaEs"
      },
      "source": [
        "network = models.Sequential()\n",
        "network.add(layers.Dense(512, activation='relu', input_shape=(28*28,))) #항상 activation function지정해줘야해 # 28*28 부분 쉼표...뭐지? 뒤의 값이 생략 되어싸 차원이1이냐 2냐\n",
        "#출력을 점점 줄여나갈거야. \n",
        "network.add(layers.Dense(10, activation='softmax'))"
      ],
      "execution_count": null,
      "outputs": []
    },
    {
      "cell_type": "code",
      "metadata": {
        "id": "eP3mwHt-lwdv"
      },
      "source": [
        "network.compile(optimizer='rmsprop', loss='categoriacal_crossentropy', metrics=['accuracy']) #rmsprop이 가장 일반적인 상황에 잘 맞아"
      ],
      "execution_count": null,
      "outputs": []
    },
    {
      "cell_type": "markdown",
      "metadata": {
        "id": "P0ObEfPEnsYT"
      },
      "source": [
        "이제 이 신경망이 준비가 된 상태인거야!"
      ]
    },
    {
      "cell_type": "code",
      "metadata": {
        "id": "LE3LqsT_nUH_"
      },
      "source": [
        "#데이터를 왜 다시 바꿔주는지는 내일 설명듣기로 함\n",
        "train_images = train_images.reshape((60000, 28*28))\n",
        "train_images = train_images.astype('float32')/255\n",
        "test_images.reshape((60000, 28*28))\n",
        "test_images.astype('float32')/255"
      ],
      "execution_count": null,
      "outputs": []
    },
    {
      "cell_type": "code",
      "metadata": {
        "id": "bVimmx5hn9Oh"
      },
      "source": [
        "from tensorflow.keras.utils import to_categorical"
      ],
      "execution_count": null,
      "outputs": []
    },
    {
      "cell_type": "code",
      "metadata": {
        "id": "RB9ky2IHpAT8"
      },
      "source": [
        "1. 우분투로 꼭 딥러닝 해야 하나\n",
        "2. 오렌지와 같은 툴을 어떻게 적용해서 마케팅에 이용하나? # 물류유통고객들 케이스 -> 생산성본부\n",
        "3. 오픈카톡방 추천받기\n",
        "\n"
      ],
      "execution_count": null,
      "outputs": []
    }
  ]
}