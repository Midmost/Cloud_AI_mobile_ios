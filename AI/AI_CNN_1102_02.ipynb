{
  "nbformat": 4,
  "nbformat_minor": 0,
  "metadata": {
    "colab": {
      "name": "AI_CNN_1102_02.ipynb",
      "private_outputs": true,
      "provenance": [],
      "collapsed_sections": [],
      "mount_file_id": "1EwKc_nSbSFVMdgzrYC8nw_-9vOmjrn42",
      "authorship_tag": "ABX9TyPfTBA1OtARyS/QFFN9Keq3",
      "include_colab_link": true
    },
    "kernelspec": {
      "name": "python3",
      "display_name": "Python 3"
    },
    "language_info": {
      "name": "python"
    },
    "accelerator": "GPU"
  },
  "cells": [
    {
      "cell_type": "markdown",
      "metadata": {
        "id": "view-in-github",
        "colab_type": "text"
      },
      "source": [
        "<a href=\"https://colab.research.google.com/github/Midmost/Cloud_AI_mobile_ios/blob/main/AI/AI_CNN_1102_02.ipynb\" target=\"_parent\"><img src=\"https://colab.research.google.com/assets/colab-badge.svg\" alt=\"Open In Colab\"/></a>"
      ]
    },
    {
      "cell_type": "code",
      "metadata": {
        "id": "0vFf4EEsssDG"
      },
      "source": [
        "from google.colab import drive\n",
        "drive.mount('/content/drive')"
      ],
      "execution_count": null,
      "outputs": []
    },
    {
      "cell_type": "code",
      "metadata": {
        "id": "StubwLkttGIR"
      },
      "source": [
        "from tensorflow import keras"
      ],
      "execution_count": null,
      "outputs": []
    },
    {
      "cell_type": "markdown",
      "metadata": {
        "id": "sofoKFwUEVFy"
      },
      "source": [
        "파일들을 좀 나누자\n",
        "5천장은 훈련용 3천장은 테스트용 등 등"
      ]
    },
    {
      "cell_type": "code",
      "metadata": {
        "id": "p6KX0pJVD7CH"
      },
      "source": [
        "#그러기 위해선 이 기능들이 필요\n",
        "import os, shutil"
      ],
      "execution_count": null,
      "outputs": []
    },
    {
      "cell_type": "code",
      "metadata": {
        "id": "kQWweMWyESpw"
      },
      "source": [
        "#원본 디렉터리 경로\n",
        "# 폴더에 datasets에 폴더를 만들어라 \n",
        "original_dataset_dir = './drive/MyDrive/DATA/datasets/cats_and_dogs/train'\n",
        "base_dir = './datasets/cats_and_dogs_small'\n",
        "if os.path.exists(base_dir):\n",
        "  shutil.rmtree(base_dir)\n",
        "\n",
        "os.mkdir(base_dir)\n",
        "\n",
        "train_dir = os.path.join(base_dir, 'train')\n",
        "os.mkdir(train_dir)\n",
        "validation_dir = os.path.join(base_dir, 'validation')\n",
        "os.mkdir(validation_dir)\n",
        "test_dir = os.path.join(base_dir, 'test')\n",
        "os.mkdir(test_dir)\n",
        "#os.path.exists(경로)"
      ],
      "execution_count": null,
      "outputs": []
    },
    {
      "cell_type": "code",
      "metadata": {
        "id": "a7OeBvxNEuaG"
      },
      "source": [
        "#훈련용 폴더 생성\n",
        "train_cats_dir = os.path.join(train_dir,'cats')\n",
        "os.mkdir(train_cats_dir)\n",
        "\n",
        "train_dogs_dir = os.path.join(train_dir, 'dogs')\n",
        "os.mkdir(train_dogs_dir)"
      ],
      "execution_count": null,
      "outputs": []
    },
    {
      "cell_type": "code",
      "metadata": {
        "id": "43UZ821-IZr2"
      },
      "source": [
        "#검증용 폴더 생성\n",
        "validation_cats_dir = os.path.join(validation_dir, 'cats')\n",
        "os.mkdir(validation_cats_dir)\n",
        "validation_dogs_dir = os.path.join(validation_dir, 'dogs')\n",
        "os.mkdir(validation_dogs_dir)"
      ],
      "execution_count": null,
      "outputs": []
    },
    {
      "cell_type": "code",
      "metadata": {
        "id": "ClchT9WsI7DS"
      },
      "source": [
        "#테스트용 폴더 생성\n",
        "test_cats_dir = os.path.join(test_dir,'cats')\n",
        "os.mkdir(test_cats_dir)\n",
        "test_dogs_dir = os.path.join(test_dir, 'dogs')\n",
        "os.mkdir(test_dogs_dir)"
      ],
      "execution_count": null,
      "outputs": []
    },
    {
      "cell_type": "code",
      "metadata": {
        "id": "coYM1QKxJjxc"
      },
      "source": [
        "# 처음 1000개의 고양이 사진을 train_cats_dir에 복사한다.\n",
        "fnames = ['cat.{}.jpg'.format(i) for i in range(1000)]\n",
        "for fname in fnames:\n",
        "  src = os.path.join(original_dataset_dir, fname)\n",
        "  #카피하게 될 경로를 또 만들어\n",
        "  dat = os.path.join(train_cats_dir,fname)\n",
        "  shutil.copyfile(src, dat)"
      ],
      "execution_count": null,
      "outputs": []
    },
    {
      "cell_type": "code",
      "metadata": {
        "id": "wnJhxDVPTXw1"
      },
      "source": [
        "# 처음 500개의 고양이 사진을 validation_cats_dir에 복사한다.\n",
        "fnames = ['cat.{}.jpg'.format(i) for i in range(1000,1500)]\n",
        "for fname in fnames:\n",
        "  src = os.path.join(original_dataset_dir, fname)\n",
        "  dat = os.path.join(validation_cats_dir,fname)\n",
        "  shutil.copyfile(src, dat)"
      ],
      "execution_count": null,
      "outputs": []
    },
    {
      "cell_type": "code",
      "metadata": {
        "id": "Nyukh3qWTup_"
      },
      "source": [
        "# 처음 500개의 고양이 사진을 test_cats_dir에 복사한다.\n",
        "fnames = ['cat.{}.jpg'.format(i) for i in range(1500,2000)]\n",
        "for fname in fnames:\n",
        "  src = os.path.join(original_dataset_dir, fname)\n",
        "  dat = os.path.join(test_cats_dir,fname)\n",
        "  shutil.copyfile(src, dat)"
      ],
      "execution_count": null,
      "outputs": []
    },
    {
      "cell_type": "code",
      "metadata": {
        "id": "rfrtq8zzUkYF"
      },
      "source": [
        "# 처음 1000개의 강아지 사진을 train_dogs_dir에 복사한다.\n",
        "fnames = ['dog.{}.jpg'.format(i) for i in range(1000)]\n",
        "for fname in fnames:\n",
        "  src = os.path.join(original_dataset_dir, fname)\n",
        "  #카피하게 될 경로를 또 만들어\n",
        "  dat = os.path.join(train_dogs_dir,fname)\n",
        "  shutil.copyfile(src, dat)"
      ],
      "execution_count": null,
      "outputs": []
    },
    {
      "cell_type": "code",
      "metadata": {
        "id": "FDJW3EOyVSEF"
      },
      "source": [
        "# 처음 500개의 강아지 사진을 validation_dogs_dir에 복사한다.\n",
        "fnames = ['dog.{}.jpg'.format(i) for i in range(1000,1500)]\n",
        "for fname in fnames:\n",
        "  src = os.path.join(original_dataset_dir, fname)\n",
        "  dat = os.path.join(validation_dogs_dir,fname)\n",
        "  shutil.copyfile(src, dat)"
      ],
      "execution_count": null,
      "outputs": []
    },
    {
      "cell_type": "code",
      "metadata": {
        "id": "dM-u6q61Vi7s"
      },
      "source": [
        "# 처음 500개의 강아지 사진을 test_dogs_dir에 복사한다.\n",
        "fnames = ['dog.{}.jpg'.format(i) for i in range(1500,2000)]\n",
        "for fname in fnames:\n",
        "  src = os.path.join(original_dataset_dir, fname)\n",
        "  dat = os.path.join(test_dogs_dir,fname)\n",
        "  shutil.copyfile(src, dat)"
      ],
      "execution_count": null,
      "outputs": []
    },
    {
      "cell_type": "code",
      "metadata": {
        "id": "q4zBm53SWd_k"
      },
      "source": [
        "print('훈련용 고양이 이미지 전체 개수: ', len(os.listdir(train_cats_dir)))\n",
        "print('검증용 고양이 이미지 전체 개수:', len(os.listdir(validation_cats_dir)))\n",
        "print('테스트용 고양이 이미지 전체 개수:', len(os.listdir(test_cats_dir)))\n",
        "\n",
        "print('훈련용 강아지 이미지 전체 개수: ', len(os.listdir(train_dogs_dir)))\n",
        "print('검증용 강아지 이미지 전체 개수:', len(os.listdir(validation_dogs_dir)))\n",
        "print('테스트용 강아지 이미지 전체 개수:', len(os.listdir(test_dogs_dir)))"
      ],
      "execution_count": null,
      "outputs": []
    },
    {
      "cell_type": "code",
      "metadata": {
        "id": "of8ZNb1DZGnJ"
      },
      "source": [
        "from keras import layers\n",
        "from keras import models"
      ],
      "execution_count": null,
      "outputs": []
    },
    {
      "cell_type": "code",
      "metadata": {
        "id": "hyo9hSHPZfAy"
      },
      "source": [
        "model = models.Sequential()"
      ],
      "execution_count": null,
      "outputs": []
    },
    {
      "cell_type": "code",
      "metadata": {
        "id": "ri4YSJQUZvAV"
      },
      "source": [
        "model.add(layers.Conv2D(32,(3,3), activation='relu',\n",
        "                        input_shape=(150,150,3)))\n",
        "model.add(layers.MaxPooling2D((2,2))) # maxpooling tuple 타입잊지마\n",
        "model.add(layers.Conv2D(64,(3,3), activation='relu'))\n",
        "model.add(layers.MaxPooling2D((2,2)))\n",
        "model.add(layers.Conv2D(128,(3,3), activation='relu'))\n",
        "model.add(layers.MaxPooling2D((2,2)))\n",
        "model.add(layers.Conv2D(128,(3,3), activation='relu'))\n",
        "model.add(layers.MaxPooling2D((2,2)))\n",
        "# 위에 컨볼루셔널 4 set가 돌아가고 있다\n",
        "\n",
        "model.add(layers.Flatten())\n",
        "model.add(layers.Dense(512, activation='relu'))\n",
        "# 사진 속에서 개인지 고양이 인지만 구하고 싶어 그러니까 dense=1\n",
        "model.add(layers.Dense(1, activation='sigmoid'))"
      ],
      "execution_count": null,
      "outputs": []
    },
    {
      "cell_type": "code",
      "metadata": {
        "id": "hD2VK3F8fA0I"
      },
      "source": [
        "from tensorflow.keras import optimizers"
      ],
      "execution_count": null,
      "outputs": []
    },
    {
      "cell_type": "code",
      "metadata": {
        "id": "8b_CxR5Kfo42"
      },
      "source": [
        "model.compile(loss='binary_crossentropy', optimizer='rmsprop', metrics=['accuracy'])"
      ],
      "execution_count": null,
      "outputs": []
    },
    {
      "cell_type": "code",
      "metadata": {
        "id": "shP0bbAsgERn"
      },
      "source": [
        "# 이미지 사이즈 조정 및 전처리 작업\n",
        "# ImageDataGenerator \n",
        "from keras.preprocessing.image import ImageDataGenerator"
      ],
      "execution_count": null,
      "outputs": []
    },
    {
      "cell_type": "code",
      "metadata": {
        "id": "9cBPV3hogq5R"
      },
      "source": [
        "# 모든 이미지를 1/255로 스케일을 조정한다.\n",
        "train_datagen = ImageDataGenerator(rescale=1./255)\n",
        "test_datagen = ImageDataGenerator(rescale=1./255)"
      ],
      "execution_count": null,
      "outputs": []
    },
    {
      "cell_type": "code",
      "metadata": {
        "id": "Lyeyu9dthWRf"
      },
      "source": [
        "train_generator = train_datagen.flow_from_directory(\n",
        "    #flow_from 을 쓰면 255으로 정리한다\n",
        "    train_dir,\n",
        "    target_size=(150,150),\n",
        "    batch_size=20,\n",
        "    class_mode='binary'\n",
        ")"
      ],
      "execution_count": null,
      "outputs": []
    },
    {
      "cell_type": "code",
      "metadata": {
        "id": "IcyCqgNDiLSP"
      },
      "source": [
        "validation_generator = test_datagen.flow_from_directory(\n",
        "    validation_dir,\n",
        "    target_size=(150,150),\n",
        "    batch_size=20,\n",
        "    class_mode='binary'\n",
        ")"
      ],
      "execution_count": null,
      "outputs": []
    },
    {
      "cell_type": "code",
      "metadata": {
        "id": "78gSCke7imxG"
      },
      "source": [
        "history = model.fit_generator(\n",
        "    train_generator,\n",
        "    steps_per_epoch=100,\n",
        "    epochs=30,\n",
        "    validation_data = validation_generator,\n",
        "    validation_steps=50\n",
        ")"
      ],
      "execution_count": null,
      "outputs": []
    },
    {
      "cell_type": "markdown",
      "metadata": {
        "id": "5FO6MFh20vin"
      },
      "source": [
        "# 1103"
      ]
    },
    {
      "cell_type": "code",
      "metadata": {
        "id": "APdIrLKiAzwx"
      },
      "source": [
        "import matplotlib.pyplot as plt"
      ],
      "execution_count": null,
      "outputs": []
    },
    {
      "cell_type": "code",
      "metadata": {
        "id": "xnbLyHRidB0O"
      },
      "source": [
        "acc = history.history['accuracy']\n",
        "val_acc = history.history['val_accuracy']\n",
        "loss = history.history['loss']\n",
        "val_loss = history.history['val_loss']"
      ],
      "execution_count": null,
      "outputs": []
    },
    {
      "cell_type": "code",
      "metadata": {
        "id": "Xfu_n5lIekc0"
      },
      "source": [
        "epochs = range(len(acc))"
      ],
      "execution_count": null,
      "outputs": []
    },
    {
      "cell_type": "code",
      "metadata": {
        "id": "DgGjiwY4deiU"
      },
      "source": [
        "plt.plot(epochs, acc, 'bo', label='Training acc')\n",
        "plt.plot(epochs, val_acc, 'b')\n",
        "plt.title('Training and validation accuracy')\n",
        "plt.legend()\n",
        "\n",
        "plt.figure()\n",
        "plt.plot(epochs, loss, 'bo', label='Training loss')\n",
        "plt.plot(epochs, val_loss, 'b-', label='Validation loss')\n",
        "plt.title('Training and validation loss')\n",
        "plt.legend()"
      ],
      "execution_count": null,
      "outputs": []
    },
    {
      "cell_type": "markdown",
      "metadata": {
        "id": "_DVkQ2AfgB3o"
      },
      "source": [
        "## 데이터 증식"
      ]
    },
    {
      "cell_type": "code",
      "metadata": {
        "id": "uSo7y3XSeOsv"
      },
      "source": [
        "datagen = ImageDataGenerator(   \n",
        "    rotation_range=40,\n",
        "    width_shift_range=0.2,\n",
        "    height_shift_range=0.2,\n",
        "    zoom_range=0.2,\n",
        "    horizontal_flip=True,\n",
        "    shear_range=0.2  #전단 변화\n",
        ")\n"
      ],
      "execution_count": null,
      "outputs": []
    },
    {
      "cell_type": "code",
      "metadata": {
        "id": "6FMdWB8agDci"
      },
      "source": [
        "from keras.preprocessing import image\n",
        "# 경로만 가져온 경우\n",
        "fname = sorted([os.path.join(train_cats_dir)])\n",
        "\n",
        "# 경로와 파일을 가져온 경우\n",
        "fname = sorted([os.path.join(train_cats_dir,fname) for fname in os.listdir(train_cats_dir)])"
      ],
      "execution_count": null,
      "outputs": []
    },
    {
      "cell_type": "code",
      "metadata": {
        "id": "FNLNUlyGliCT"
      },
      "source": [
        "img_path"
      ],
      "execution_count": null,
      "outputs": []
    },
    {
      "cell_type": "code",
      "metadata": {
        "id": "8Qiow_fciaC3"
      },
      "source": [
        "# fname # 0 부터 시작할거야\n",
        "img_path = fname[3]\n",
        "img = image.load_img(img_path, target_size=(150,150))\n",
        "\n",
        "# 150, 150, 3 의 넘파이 배열로 변환\n",
        "x = image.img_to_array(img)\n",
        "x = x.reshape((1,) + x.shape)\n",
        "\n",
        "i = 0\n",
        "for batch in datagen.flow(x, batch_size=1):\n",
        "  plt.figure(i)\n",
        "  # 왜 한 번 에러나고 나서 파라미터만 바꿔서 리턴했을 때 계속 에러나지?\n",
        "  imgplot = plt.imshow(image.array_to_img(batch[0])) #batch 0번에 있는 이미지를 가져오겠다\n",
        "  i += 1\n",
        "  if i % 4 == 0: #4번 반복하고 나서\n",
        "    break;\n",
        "\n",
        "plt.show()\n"
      ],
      "execution_count": null,
      "outputs": []
    },
    {
      "cell_type": "markdown",
      "metadata": {
        "id": "Z1u32hFxpBTK"
      },
      "source": [
        "## 새 신경망 만들고 증식한 데이터를 적용해서 해보자"
      ]
    },
    {
      "cell_type": "code",
      "metadata": {
        "id": "DdmKhgLejlju"
      },
      "source": [
        "model = models.Sequential()"
      ],
      "execution_count": null,
      "outputs": []
    },
    {
      "cell_type": "code",
      "metadata": {
        "id": "a5zjxKDNpUHW"
      },
      "source": [
        "# 4개의 세트로 이루어진 합성곱\n",
        "model.add(layers.Conv2D(32, (3,3),activation='relu', \n",
        "                        input_shape=(150,150,3)))\n",
        "\n",
        "#이미지 사이즈 반으로 줄여주고\n",
        "model.add(layers.MaxPooling2D((2,2)))\n",
        "model.add(layers.Conv2D(64, (3,3), activation='relu'))\n",
        "model.add(layers.MaxPooling2D((2,2)))\n",
        "model.add(layers.Conv2D(128, (3,3), activation='relu'))\n",
        "model.add(layers.MaxPooling2D((2,2)))\n",
        "model.add(layers.Conv2D(128, (3,3), activation='relu'))\n",
        "model.add(layers.MaxPooling2D((2,2)))\n",
        "\n",
        "#데이터를 추가하기 위해서 레이어를 추가할 때 \n",
        "#다차원을 1차원으로 펴주는 flatten을 추가해주자 (연산보단 변환)\n",
        "model.add(layers.Flatten())\n",
        "\n",
        "# 새로운 망 추가!\n",
        "model.add(layers.Dropout(0.5))\n",
        "\n",
        "# 마지막 단 \n",
        "model.add(layers.Dense(512, activation='relu'))\n",
        "model.add(layers.Dense(1, activation='sigmoid'))"
      ],
      "execution_count": null,
      "outputs": []
    },
    {
      "cell_type": "code",
      "metadata": {
        "id": "ItvDla_QpqBH"
      },
      "source": [
        "model.compile(loss='binary_crossentropy',\n",
        "              optimizer='rmsprop', #optimizers 아님\n",
        "              metrics=['accuracy'])"
      ],
      "execution_count": null,
      "outputs": []
    },
    {
      "cell_type": "markdown",
      "metadata": {
        "id": "s8merogEscLw"
      },
      "source": [
        "신경망 준비 끝! 이제 데이터를 흘러보내야해"
      ]
    },
    {
      "cell_type": "code",
      "metadata": {
        "id": "zqQRk3uhsXPk"
      },
      "source": [
        "#기존의 데이터를 비틀었으니 트레인 데이터도 비틀어 보는거야\n",
        "\n",
        "#어떻게 증식할 지 정보를 담아놓음\n",
        "train_datagen = ImageDataGenerator(\n",
        "    rescale=1./255,\n",
        "    rotation_range=40,\n",
        "    width_shift_range=0.2,\n",
        "    height_shift_range=0.2,\n",
        "    shear_range=0.2,\n",
        "    zoom_range=0.2,\n",
        "    horizontal_flip=True\n",
        ")\n",
        "\n",
        "# test data의 크기만 바꾸자 증식은 필요없으니 하지 말고\n",
        "test_datagen = ImageDataGenerator(\n",
        "    rescale=1./255\n",
        ")"
      ],
      "execution_count": null,
      "outputs": []
    },
    {
      "cell_type": "code",
      "metadata": {
        "id": "i1EfF1D1tO51"
      },
      "source": [
        "#위에서 담아놓은 값을 써보자\n",
        "train_generator = train_datagen.flow_from_directory(\n",
        "    train_dir, #학습에 필요한 경로\n",
        "    target_size=(150,150), #타겟을 잡겠다\n",
        "    batch_size = 32,\n",
        "    class_mode='binary'\n",
        "\n",
        ")"
      ],
      "execution_count": null,
      "outputs": []
    },
    {
      "cell_type": "markdown",
      "metadata": {
        "id": "-8Z3cWpnvb0I"
      },
      "source": [
        "이제 validation data를 작업해주자"
      ]
    },
    {
      "cell_type": "code",
      "metadata": {
        "id": "4NgYdFh_us65"
      },
      "source": [
        "#검증용이라서 test data가지고 해도 결과는 같을거야\n",
        "validation_generator = test_datagen.flow_from_directory(\n",
        "    validation_dir,\n",
        "    target_size=(150,150),\n",
        "    batch_size=32,\n",
        "    class_mode='binary'\n",
        ")"
      ],
      "execution_count": null,
      "outputs": []
    },
    {
      "cell_type": "code",
      "metadata": {
        "id": "77hrEtjbv4O2"
      },
      "source": [
        "# fit이 아니라 fit_generator를 쓴 건\n",
        "# 여기서 증식이 시작됨 위에서는 옵션만 준거임\n",
        "history = model.fit_generator(\n",
        "    train_generator,\n",
        "    steps_per_epoch=50,\n",
        "    epochs=100,\n",
        "    validation_data = validation_generator,\n",
        "    validation_steps=25 \n",
        ")\n",
        "\n",
        "# Warning 이 나오면 steps 을 줄이자. validation_steps나 steps_per_epoch이나...\n",
        "# GPU 문제로 어떨 때는 잘 나올 때도 있고 안 될 때도 있음 "
      ],
      "execution_count": null,
      "outputs": []
    },
    {
      "cell_type": "code",
      "metadata": {
        "id": "2WswQoQtwhrU"
      },
      "source": [
        "#h5로 저장할 수 있고 다른 사람한테 학습된 결과를 넘기고 싶으면 이 파일만 넘기면 됨\n",
        "model.save('cats_and_dogs_small_2.h5')"
      ],
      "execution_count": null,
      "outputs": []
    },
    {
      "cell_type": "code",
      "metadata": {
        "id": "g35Y11ZL5qOr"
      },
      "source": [
        ""
      ],
      "execution_count": null,
      "outputs": []
    }
  ]
}