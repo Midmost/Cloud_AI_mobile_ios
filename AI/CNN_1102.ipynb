{
  "nbformat": 4,
  "nbformat_minor": 0,
  "metadata": {
    "colab": {
      "name": "CNN_1102.ipynb",
      "private_outputs": true,
      "provenance": [],
      "collapsed_sections": [],
      "authorship_tag": "ABX9TyNWh9m1K1PABtmCXEauj/iV",
      "include_colab_link": true
    },
    "kernelspec": {
      "name": "python3",
      "display_name": "Python 3"
    },
    "language_info": {
      "name": "python"
    },
    "accelerator": "GPU"
  },
  "cells": [
    {
      "cell_type": "markdown",
      "metadata": {
        "id": "view-in-github",
        "colab_type": "text"
      },
      "source": [
        "<a href=\"https://colab.research.google.com/github/Midmost/Cloud_AI_mobile_ios/blob/main/AI/CNN_1102.ipynb\" target=\"_parent\"><img src=\"https://colab.research.google.com/assets/colab-badge.svg\" alt=\"Open In Colab\"/></a>"
      ]
    },
    {
      "cell_type": "code",
      "metadata": {
        "id": "M2R4ojEPV8BB"
      },
      "source": [
        "import keras\n",
        "keras.__version__"
      ],
      "execution_count": null,
      "outputs": []
    },
    {
      "cell_type": "code",
      "metadata": {
        "id": "sqA9RPmhWFAN"
      },
      "source": [
        "from keras import layers\n",
        "from keras import models"
      ],
      "execution_count": null,
      "outputs": []
    },
    {
      "cell_type": "code",
      "metadata": {
        "id": "KWozGPiRWO-x"
      },
      "source": [
        "model = models.Sequential()"
      ],
      "execution_count": null,
      "outputs": []
    },
    {
      "cell_type": "code",
      "metadata": {
        "id": "AatkhEJNXPQA"
      },
      "source": [
        "# 신경망을 4개 만들꼬야!\n",
        "\n",
        "model.add(layers.Conv2D(32, (3,3), activation='relu', input_shape=(28,28,1)))\n",
        "model.add(layers.MaxPooling2D((2,2))) \n",
        "model.add(layers.Conv2D(64,(3,3), activation='relu'))\n",
        "model.add(layers.MaxPooling2D((2,2)))\n",
        "model.add(layers.Conv2D(64,(3,3), activation='relu'))"
      ],
      "execution_count": null,
      "outputs": []
    },
    {
      "cell_type": "code",
      "metadata": {
        "id": "LUujOYLZdkop"
      },
      "source": [
        "model.summary()"
      ],
      "execution_count": null,
      "outputs": []
    },
    {
      "cell_type": "code",
      "metadata": {
        "id": "lLznAMxWb6TI"
      },
      "source": [
        "model.add(layers.Flatten()) # 데이터 변환정도의 의미로 이해하자\n",
        "model.add(layers.Dense(64,activation='relu'))\n",
        "model.add(layers.Dense(10, activation='softmax')) # 0~9까지를 분류하는거라서 다중분료용 함수 sofmax를 해준댜!"
      ],
      "execution_count": null,
      "outputs": []
    },
    {
      "cell_type": "code",
      "metadata": {
        "id": "qxcIRRBEeLQE"
      },
      "source": [
        "model.summary()"
      ],
      "execution_count": null,
      "outputs": []
    },
    {
      "cell_type": "markdown",
      "metadata": {
        "id": "NwklsdCkhNnJ"
      },
      "source": [
        "# Data를 가져오기"
      ]
    },
    {
      "cell_type": "code",
      "metadata": {
        "id": "EKRYTvB4eQND"
      },
      "source": [
        "# 책에 나온 API가 이렇게 되어있으나 이대로 실행시키면 에러남\n",
        "from keras.datasets import mnist\n",
        "# from keras.utils import to_categorical \n",
        "\n",
        "# 아래와 같이 해야함\n",
        "from tensorflow.keras.utils import to_categorical"
      ],
      "execution_count": null,
      "outputs": []
    },
    {
      "cell_type": "code",
      "metadata": {
        "id": "N-tUKQu9eiun"
      },
      "source": [
        "(train_images, train_labels), (test_images, test_labels) = mnist.load_data()\n",
        "# 머신러닝 할 때 인터넷 단종되어 있는 경우가 많은데\n",
        "# 데이터들이 지금처럼 인터넷에서 가져와야 하는 경우가 있음 \n",
        "# 그래서 데이터 불러오는 방법도 고려해서 사용할 수 있어야함"
      ],
      "execution_count": null,
      "outputs": []
    },
    {
      "cell_type": "code",
      "metadata": {
        "id": "3DW7E20dgS1B"
      },
      "source": [
        "train_images.shape"
      ],
      "execution_count": null,
      "outputs": []
    },
    {
      "cell_type": "code",
      "metadata": {
        "id": "lD0stjxNfqgR"
      },
      "source": [
        "train_images = train_images.reshape((60000,28,28,1))\n",
        "#우리가 원하는 float로 바꿔주기 위해 텐서형태로 쓰려고\n",
        "train_images.astype('float32')\n",
        "#근데 실수형으로 바꾸게 되면 중간에 값이 튈 수가 있어 그래서 범위를 지정해주자\n",
        "# 칼라값을 지정해주려고 하는 거니까 255를 기준으로 하쟈\n",
        "train_images = train_images.astype('float32') / 255\n",
        "\n",
        "test_images = test_images.reshape((10000,28,28,1))\n",
        "test_images = test_images.astype('float32')/255"
      ],
      "execution_count": null,
      "outputs": []
    },
    {
      "cell_type": "code",
      "metadata": {
        "id": "1L_9T4FKiEEa"
      },
      "source": [
        "train_labels"
      ],
      "execution_count": null,
      "outputs": []
    },
    {
      "cell_type": "markdown",
      "metadata": {
        "id": "uWoGH-_ohcJD"
      },
      "source": [
        "여기서 uint 에서 u가 있는거는 음수가 없는 양수만 표현하겠다는 거임"
      ]
    },
    {
      "cell_type": "code",
      "metadata": {
        "id": "2BrfXLlBgQlP"
      },
      "source": [
        "train_labels = to_categorical(train_labels)\n",
        "test_labels = to_categorical(test_labels)"
      ],
      "execution_count": null,
      "outputs": []
    },
    {
      "cell_type": "code",
      "metadata": {
        "id": "rk3_-HAeh_4Y"
      },
      "source": [
        "model.compile(optimizer='rmsprop',\n",
        "              loss='categorical_crossentropy',\n",
        "              metrics=['accuracy']) # 최적화 뭔지 모를 때는 rmsprop이나 adamTj\n",
        "\n",
        "\n"
      ],
      "execution_count": null,
      "outputs": []
    },
    {
      "cell_type": "markdown",
      "metadata": {
        "id": "0PMX7ygwiqBh"
      },
      "source": [
        "보통 다중분류면 softmax 랑 categorical_crossentropy 를 한 세트로 쓴다고 알아놓고\n",
        "이중분류면 binary_crossentropy"
      ]
    },
    {
      "cell_type": "code",
      "metadata": {
        "id": "w7S7Mn3YjHJi"
      },
      "source": [
        "model.fit(train_images, train_labels, epochs=5, batch_size=64)"
      ],
      "execution_count": null,
      "outputs": []
    },
    {
      "cell_type": "code",
      "metadata": {
        "id": "hbu_09Z5lf1Y"
      },
      "source": [
        "test_loss, test_acc = model.evaluate(test_images, test_labels)"
      ],
      "execution_count": null,
      "outputs": []
    },
    {
      "cell_type": "code",
      "metadata": {
        "id": "jnes3suBlnHH"
      },
      "source": [
        "test_acc"
      ],
      "execution_count": null,
      "outputs": []
    },
    {
      "cell_type": "code",
      "metadata": {
        "id": "e19m36kzv29K"
      },
      "source": [
        ""
      ],
      "execution_count": null,
      "outputs": []
    }
  ]
}