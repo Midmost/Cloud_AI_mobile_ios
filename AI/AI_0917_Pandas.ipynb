{
  "nbformat": 4,
  "nbformat_minor": 0,
  "metadata": {
    "colab": {
      "name": "AI_0917_Pandas.ipynb",
      "private_outputs": true,
      "provenance": [],
      "collapsed_sections": [],
      "authorship_tag": "ABX9TyPE5VXrjOb6GiE2XyNdpd5e",
      "include_colab_link": true
    },
    "kernelspec": {
      "name": "python3",
      "display_name": "Python 3"
    },
    "language_info": {
      "name": "python"
    }
  },
  "cells": [
    {
      "cell_type": "markdown",
      "metadata": {
        "id": "view-in-github",
        "colab_type": "text"
      },
      "source": [
        "<a href=\"https://colab.research.google.com/github/Midmost/Cloud_AI_mobile_ios/blob/main/AI/AI_0917_Pandas.ipynb\" target=\"_parent\"><img src=\"https://colab.research.google.com/assets/colab-badge.svg\" alt=\"Open In Colab\"/></a>"
      ]
    },
    {
      "cell_type": "code",
      "metadata": {
        "id": "QKjkA1sUZxTx"
      },
      "source": [
        "import pandas as pd\n"
      ],
      "execution_count": null,
      "outputs": []
    },
    {
      "cell_type": "code",
      "metadata": {
        "id": "8eyhg4AzXCz6"
      },
      "source": [
        "german = pd.read_csv('http://freakonometrics.free.fr/german_credit.csv')"
      ],
      "execution_count": null,
      "outputs": []
    },
    {
      "cell_type": "code",
      "metadata": {
        "id": "y5Q8dWnya6LB"
      },
      "source": [
        "german"
      ],
      "execution_count": null,
      "outputs": []
    },
    {
      "cell_type": "markdown",
      "metadata": {
        "id": "-xcgCmvHa3iR"
      },
      "source": [
        ""
      ]
    },
    {
      "cell_type": "code",
      "metadata": {
        "id": "heZtcW-sZ2S3"
      },
      "source": [
        "german_sample=german[['Creditability','Duration of Credit (month)','Purpose','Credit Amount']]"
      ],
      "execution_count": null,
      "outputs": []
    },
    {
      "cell_type": "markdown",
      "metadata": {
        "id": "E7fb8UENbMA7"
      },
      "source": [
        "type of apartment 추가\n"
      ]
    },
    {
      "cell_type": "markdown",
      "metadata": {
        "id": "RFbVG5VTYuDx"
      },
      "source": [
        "Correlation에서  자기기자자신신과과의  관관계계는  1"
      ]
    },
    {
      "cell_type": "code",
      "metadata": {
        "id": "cOMgdFjJZ6r5"
      },
      "source": [
        "german_sample.corr"
      ],
      "execution_count": null,
      "outputs": []
    },
    {
      "cell_type": "code",
      "metadata": {
        "id": "sCf266JadNsk"
      },
      "source": [
        "german_sample = german[['Credit Amount', 'Type of apartment', 'Purpose']]"
      ],
      "execution_count": null,
      "outputs": []
    },
    {
      "cell_type": "code",
      "metadata": {
        "id": "xzBrIv6UaBfJ"
      },
      "source": [
        "german_grouped = german_sample['Credit Amount'].groupby(german_sample['Type of apartment']) #type of apartment 찾찾기"
      ],
      "execution_count": null,
      "outputs": []
    },
    {
      "cell_type": "code",
      "metadata": {
        "id": "FjKcRvY8aLBO"
      },
      "source": [
        "german_grouped.sum()"
      ],
      "execution_count": null,
      "outputs": []
    },
    {
      "cell_type": "code",
      "metadata": {
        "id": "DVgW0G2FbIn0"
      },
      "source": [
        "german_sample = german[['Credit Amount', 'Type of apartment', 'Purpose']]"
      ],
      "execution_count": null,
      "outputs": []
    },
    {
      "cell_type": "code",
      "metadata": {
        "id": "hpAChlZ-btOS"
      },
      "source": [
        "# 그룹을 짓는데 한 개의 컬럼을 쓰기\n",
        "german_grouped = german_sample['Credit Amount'].groupby(german_sample['Type of apartment'])\n",
        "\n",
        "# 그룹을 짓는데 두 개의 ㅋ러럼을 쓰는거임 \n",
        "\n",
        "german_grouped2 = german_sample['Credit Amount'].groupby([german_sample['Purpose'],german_sample['Type of apartment']])"
      ],
      "execution_count": null,
      "outputs": []
    },
    {
      "cell_type": "code",
      "metadata": {
        "id": "x1mYTLERcGT4"
      },
      "source": [
        "import seaborn as sns"
      ],
      "execution_count": null,
      "outputs": []
    },
    {
      "cell_type": "code",
      "metadata": {
        "id": "xXT6bAE9dUQJ"
      },
      "source": [
        "planets = sns.load_dataset('planets')"
      ],
      "execution_count": null,
      "outputs": []
    },
    {
      "cell_type": "code",
      "metadata": {
        "id": "mfgVi9Bodc4R"
      },
      "source": [
        "planets"
      ],
      "execution_count": null,
      "outputs": []
    },
    {
      "cell_type": "code",
      "metadata": {
        "id": "cGLY-LhUervu"
      },
      "source": [
        "planets.dropna()"
      ],
      "execution_count": null,
      "outputs": []
    },
    {
      "cell_type": "code",
      "metadata": {
        "id": "a92h4Cp3hV72"
      },
      "source": [
        "births = pd.read_csv('https://raw.githubusercontent.com/jakevdp/data-CDCbirths/master/births.csv')"
      ],
      "execution_count": null,
      "outputs": []
    },
    {
      "cell_type": "code",
      "metadata": {
        "id": "OgPrA07Ih_zV"
      },
      "source": [
        "births.head"
      ],
      "execution_count": null,
      "outputs": []
    },
    {
      "cell_type": "code",
      "metadata": {
        "id": "fBV-gQf9if1r"
      },
      "source": [
        "births['decade'] = births['year'] "
      ],
      "execution_count": null,
      "outputs": []
    },
    {
      "cell_type": "code",
      "metadata": {
        "id": "Jw_aUY2KjR7M"
      },
      "source": [
        "births"
      ],
      "execution_count": null,
      "outputs": []
    },
    {
      "cell_type": "code",
      "metadata": {
        "id": "nrBBBnqbjTO8"
      },
      "source": [
        "births.pivot_table('births',index = 'decade', columns = 'gender', aggfunc='sum')"
      ],
      "execution_count": null,
      "outputs": []
    },
    {
      "cell_type": "code",
      "metadata": {
        "id": "n_dm7ttvkgeZ"
      },
      "source": [
        ""
      ],
      "execution_count": null,
      "outputs": []
    },
    {
      "cell_type": "markdown",
      "metadata": {
        "id": "JU4xULZClU5U"
      },
      "source": [
        "# 잔망스러운 기능 하나 해보자\n",
        "\n",
        "https://teachablemachine.withgoogle.com/"
      ]
    },
    {
      "cell_type": "code",
      "metadata": {
        "id": "QTV8X8MIlXy3"
      },
      "source": [
        ""
      ],
      "execution_count": null,
      "outputs": []
    }
  ]
}