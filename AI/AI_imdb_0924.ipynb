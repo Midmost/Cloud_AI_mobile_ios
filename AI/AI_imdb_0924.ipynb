{
  "nbformat": 4,
  "nbformat_minor": 0,
  "metadata": {
    "colab": {
      "name": "AI_imdb_0924.ipynb",
      "private_outputs": true,
      "provenance": [],
      "collapsed_sections": [
        "Im6NvQmfYAuu"
      ],
      "authorship_tag": "ABX9TyOeWlfRcyuwG42jgOjf7kwN",
      "include_colab_link": true
    },
    "kernelspec": {
      "name": "python3",
      "display_name": "Python 3"
    },
    "language_info": {
      "name": "python"
    }
  },
  "cells": [
    {
      "cell_type": "markdown",
      "metadata": {
        "id": "view-in-github",
        "colab_type": "text"
      },
      "source": [
        "<a href=\"https://colab.research.google.com/github/Midmost/Cloud_AI_mobile_ios/blob/main/AI/AI_imdb_0924.ipynb\" target=\"_parent\"><img src=\"https://colab.research.google.com/assets/colab-badge.svg\" alt=\"Open In Colab\"/></a>"
      ]
    },
    {
      "cell_type": "code",
      "metadata": {
        "id": "U93HVHaxRsXQ"
      },
      "source": [
        "import tensorflow\n",
        "from tensorflow.keras.datasets import imdb "
      ],
      "execution_count": null,
      "outputs": []
    },
    {
      "cell_type": "code",
      "metadata": {
        "id": "NIz1UYEmPhSq"
      },
      "source": [
        "(train_data, train_labels), (test_data, test_labels) = imdb.load_data(num_words=10000)\n",
        "\n",
        "#sample이라서 단어의 횟수로 비교하는 거지만 실제로는 단어의 가치에 중요도를 둬야해 욕한다거나..."
      ],
      "execution_count": null,
      "outputs": []
    },
    {
      "cell_type": "markdown",
      "metadata": {
        "id": "mzDje3WvQUd5"
      },
      "source": [
        "실제 쇼핑몽의 챗봇에서는 욕을 하면 욕하지 말라고 하는 게 아니라 죄송하다고 사과해야함 그래야 유저가 물건을 구입하니까. 그러려면 유저가 욕하는지를 알아야겠지"
      ]
    },
    {
      "cell_type": "code",
      "metadata": {
        "id": "qGCizYkzQLbJ"
      },
      "source": [
        "train_data.shape"
      ],
      "execution_count": null,
      "outputs": []
    },
    {
      "cell_type": "code",
      "metadata": {
        "id": "kEy9rYSOQNHu"
      },
      "source": [
        "train_labels\n",
        "#0은 negative\n",
        "#1은 positive"
      ],
      "execution_count": null,
      "outputs": []
    },
    {
      "cell_type": "code",
      "metadata": {
        "id": "MGXSf43OQxrn"
      },
      "source": [
        "train_data[0:4] # 안에 리스트값들이 들어있고 그중 인덱스 0번의 들어있는 값들 "
      ],
      "execution_count": null,
      "outputs": []
    },
    {
      "cell_type": "markdown",
      "metadata": {
        "id": "IyRWdpwFRMsS"
      },
      "source": [
        "### 이 숫자들을 간단하게 복원해보자"
      ]
    },
    {
      "cell_type": "code",
      "metadata": {
        "id": "lmK9c_OgR7AV"
      },
      "source": [
        "# word_index는 단어와 정수 인덱스를 매핑한 딕셔너리입니다\n",
        "word_index = imdb.get_word_index()\n",
        "# 정수 인덱스와 단어를 매핑하도록 뒤집습니다\n",
        "reverse_word_index = dict([(value, key) for (key, value) in word_index.items()])\n",
        "# 리뷰를 디코딩합니다.\n",
        "# 0, 1, 2는 '패딩', '문서 시작', '사전에 없음'을 위한 인덱스이므로 3을 뺍니다\n",
        "decoded_review = ' '.join([reverse_word_index.get(i - 3, '?') for i in train_data[0]])"
      ],
      "execution_count": null,
      "outputs": []
    },
    {
      "cell_type": "code",
      "metadata": {
        "id": "EJTGzmpESdaT"
      },
      "source": [
        "decoded_review"
      ],
      "execution_count": null,
      "outputs": []
    },
    {
      "cell_type": "markdown",
      "metadata": {
        "id": "55lJeJj_UdSq"
      },
      "source": [
        "## 데이터가 준비되었으니 이제 코드를 짜보자"
      ]
    },
    {
      "cell_type": "code",
      "metadata": {
        "id": "-R91udgUUhA6"
      },
      "source": [
        "import numpy as np"
      ],
      "execution_count": null,
      "outputs": []
    },
    {
      "cell_type": "markdown",
      "metadata": {
        "id": "tTmpz2qQUnXn"
      },
      "source": [
        "## Vectorize\n",
        "\n",
        "지금 단어에 대한 배열을 만들거야. \n",
        "\n",
        "하나의 배열이 있는데 인덱스가 0 ~9999 인 배열인데\n",
        "\n",
        "전부 0으로 초기화되어 있는거야\n",
        "\n",
        "여기에 단어가 들어올 때 마다 이 위치, 즉 몇 번째에 들어왔는지에 따라 0을 1로 바꿔주는거야\n"
      ]
    },
    {
      "cell_type": "code",
      "metadata": {
        "id": "QsT_zGo9VFgE"
      },
      "source": [
        "def vectorize_sequences(sequences, dimension=10000): # dimension 다시 여쭤보자\n",
        "  \n",
        "  result = np.zeros((len(sequences), dimension)) # 0으로 채워진 배열을 만들어주자, 배열의 사이즈는 dimension (dimension만큼 채워지란 뜻)\n",
        "\n",
        "  for i, sequence in enumerate(sequences):\n",
        "    result[i, sequence] = 1\n",
        "\n",
        "  return result"
      ],
      "execution_count": null,
      "outputs": []
    },
    {
      "cell_type": "code",
      "metadata": {
        "id": "yBf4UfRRWlpR"
      },
      "source": [
        "x_train = vectorize_sequences(train_data)\n",
        "x_test = vectorize_sequences(test_data)"
      ],
      "execution_count": null,
      "outputs": []
    },
    {
      "cell_type": "markdown",
      "metadata": {
        "id": "Im6NvQmfYAuu"
      },
      "source": [
        "#### 위 코드를 좀 더 풀어서 설명하자면"
      ]
    },
    {
      "cell_type": "code",
      "metadata": {
        "id": "KpR5qWJAW4-_"
      },
      "source": [
        "np.zeros([2,10])"
      ],
      "execution_count": null,
      "outputs": []
    },
    {
      "cell_type": "code",
      "metadata": {
        "id": "pn-mUktAXnt7"
      },
      "source": [
        "np.zeros([2,10000])"
      ],
      "execution_count": null,
      "outputs": []
    },
    {
      "cell_type": "code",
      "metadata": {
        "id": "oxNezXz8XrjS"
      },
      "source": [
        "# 문장의 갯수를 확인하자\n",
        "np.zeros((len(train_data), 10000)) # 밑으로는 25000개 옆으로는 10000개 짜리 배열이 생성!"
      ],
      "execution_count": null,
      "outputs": []
    },
    {
      "cell_type": "code",
      "metadata": {
        "id": "RO7ibrB8YXmO"
      },
      "source": [
        "# enumerate 반복"
      ],
      "execution_count": null,
      "outputs": []
    },
    {
      "cell_type": "markdown",
      "metadata": {
        "id": "B9leWFlAYFw5"
      },
      "source": [
        "#### 다시 돌아와서"
      ]
    },
    {
      "cell_type": "code",
      "metadata": {
        "id": "rHv0_YGTYHQT"
      },
      "source": [
        "x_train[0] # 쭉 가다가 1이 보이네? 즉, 그자리에 해당하는 단어가 들어가있다는 뜻! "
      ],
      "execution_count": null,
      "outputs": []
    },
    {
      "cell_type": "markdown",
      "metadata": {
        "id": "tZIRBHCTYo6l"
      },
      "source": [
        "원래는 영어 문장을 숫자로 바꿔버린거! => vectorizing "
      ]
    },
    {
      "cell_type": "code",
      "metadata": {
        "id": "VrU1TeM_Yhh7"
      },
      "source": [
        "x_train[0].dtype"
      ],
      "execution_count": null,
      "outputs": []
    },
    {
      "cell_type": "markdown",
      "metadata": {
        "id": "n98hYEoRY3hV"
      },
      "source": [
        "타입을 보니 float64네 이제 신경망을 만들고 학습을 해서 결과를 봐볼까?"
      ]
    },
    {
      "cell_type": "code",
      "metadata": {
        "id": "MrKRZHVJY10f"
      },
      "source": [
        "y_train = np.asarray(train_labels).astype('float32')\n",
        "y_test = np.asarray(test_labels).astype('float32') \n",
        "# label 값이 저장되어있음"
      ],
      "execution_count": null,
      "outputs": []
    },
    {
      "cell_type": "markdown",
      "metadata": {
        "id": "MtYhmMmdY9g-"
      },
      "source": [
        "## 신경망 만들기"
      ]
    },
    {
      "cell_type": "code",
      "metadata": {
        "id": "YFDjeTS2d6Pe"
      },
      "source": [
        "# 신경망 모델 만들기\n",
        "from keras import models\n",
        "from keras import layers\n",
        "\n",
        "model = models.Sequential()\n",
        "model.add(layers.Dense(16, activation='relu', input_shape=(10000,)))\n",
        "model.add(layers.Dense(16, activation='relu'))\n",
        "model.add(layers.Dense(1, activation='sigmoid'))\n"
      ],
      "execution_count": null,
      "outputs": []
    },
    {
      "cell_type": "code",
      "metadata": {
        "id": "DRFtZ5BdfYcI"
      },
      "source": [
        "model.compile(optimizer='rmsprop',\n",
        "              loss='binary_crossentropy', # 둘 중 하나일 때는 binary! 헛갈리지마아아아\n",
        "              metrics = ['accuracy']) "
      ],
      "execution_count": null,
      "outputs": []
    },
    {
      "cell_type": "markdown",
      "metadata": {
        "id": "MYp2e9GfhRWN"
      },
      "source": [
        "model 완성! 이제 돌려볼건데 너무 많다 좀 자르자\n",
        "\n"
      ]
    },
    {
      "cell_type": "code",
      "metadata": {
        "id": "c0sg_8COgxN5"
      },
      "source": [
        "x_val = x_train[:10000] #학습용 데이터에서 만 개만 따로 먼저 떼어내서 만들어야 해\n",
        "partial_x_train = x_train[10000:] # 만개부터 만 오천까지\n",
        "\n",
        "y_val = y_train[:10000]\n",
        "partial_y_train = y_train[10000:]"
      ],
      "execution_count": null,
      "outputs": []
    },
    {
      "cell_type": "markdown",
      "metadata": {
        "id": "ljARvclTiYIw"
      },
      "source": [
        "이제 학습을 합시다"
      ]
    },
    {
      "cell_type": "markdown",
      "metadata": {
        "id": "pd06yLklioNv"
      },
      "source": [
        "model.fit(partial_x_train, partial_y_train)\n",
        "              feature값(x)과 label(y)값\n",
        "\n"
      ]
    },
    {
      "cell_type": "code",
      "metadata": {
        "id": "cyY7FH1aiR6t"
      },
      "source": [
        "model.fit(partial_x_train, partial_y_train, epochs=3, batch_size=512)"
      ],
      "execution_count": null,
      "outputs": []
    },
    {
      "cell_type": "markdown",
      "metadata": {
        "id": "Ng5y2jaNjLbR"
      },
      "source": [
        "훈련결과를 히스토리로 받자 "
      ]
    },
    {
      "cell_type": "code",
      "metadata": {
        "id": "-Va04wlhi2fc"
      },
      "source": [
        "history = model.fit(partial_x_train, partial_y_train, epochs=20, batch_size=512, validation_data=(x_val, y_val))"
      ],
      "execution_count": null,
      "outputs": []
    },
    {
      "cell_type": "markdown",
      "metadata": {
        "id": "xPHtQnogj4jn"
      },
      "source": [
        "걸리는 시간, 손실값, 정확도가 나오네\n",
        "\n",
        "val_loss 테스트데이터의 손실값과 \n",
        "\n",
        "val_accuracy 테스트데이터의 정확도 "
      ]
    },
    {
      "cell_type": "code",
      "metadata": {
        "id": "TmRC7yQ7kUQa"
      },
      "source": [
        "history_dict = history.history"
      ],
      "execution_count": null,
      "outputs": []
    },
    {
      "cell_type": "code",
      "metadata": {
        "id": "x8MzApJFkcYj"
      },
      "source": [
        "history_dict.items() #dict일 경우 전체 내용을 보려면 items 쓰면 됨"
      ],
      "execution_count": null,
      "outputs": []
    },
    {
      "cell_type": "code",
      "metadata": {
        "id": "dFcXo4L-kke4"
      },
      "source": [
        "history_dict.keys() # val_accuracy 가 가장 중요해"
      ],
      "execution_count": null,
      "outputs": []
    },
    {
      "cell_type": "markdown",
      "metadata": {
        "id": "4uo2wFhTk0bw"
      },
      "source": [
        "이제 히스토리의 key값들을 가지고 그래프를 그려보자"
      ]
    },
    {
      "cell_type": "code",
      "metadata": {
        "id": "STd8YRRyn-03"
      },
      "source": [
        "import matplotlib.pyplot as plt"
      ],
      "execution_count": null,
      "outputs": []
    },
    {
      "cell_type": "code",
      "metadata": {
        "id": "HjFyv1KyoG_q"
      },
      "source": [
        "acc = history.history['accuracy']\n",
        "val_acc = history.history['val_accuracy']\n",
        "loss = history.history['loss']\n",
        "val_loss = history.history['val_loss']"
      ],
      "execution_count": null,
      "outputs": []
    },
    {
      "cell_type": "code",
      "metadata": {
        "id": "xDGIkrAOoR8H"
      },
      "source": [
        "epochs = range(1, len(acc)+1)"
      ],
      "execution_count": null,
      "outputs": []
    },
    {
      "cell_type": "code",
      "metadata": {
        "id": "WnqveBJgpSJL"
      },
      "source": [
        "plt.plot(epochs, loss, 'bo', label='Training loss') # y축은 손실값에 따라서 움직일거야\n",
        "plt.plot(epochs, val_loss, 'b-', label='Validation loss')\n",
        "\n",
        "# 제목 달자\n",
        "plt.title('Training and validation loss')\n",
        "plt.xlabel('epochs')\n",
        "plt.ylabel('loss')\n",
        "plt.legend()"
      ],
      "execution_count": null,
      "outputs": []
    },
    {
      "cell_type": "markdown",
      "metadata": {
        "id": "S7e_c2veqe4G"
      },
      "source": [
        "이런 그래프를 그려보면서 언제쯤 그만두면 되는가! 생각을 해봅시다아앙\n",
        "validation loss 와 training loss를 보면 교차되는 지점이 바로 최적화가 이뤄지는 구간인데\n",
        "\n",
        "지금  그래프를 보면 겹치는 구간이 아예 없고 반복할 수록 오히려 \n",
        "\n",
        "격차가 점점 벌어지고 있음 그러면 가장 처음이 좋은거임"
      ]
    },
    {
      "cell_type": "markdown",
      "metadata": {
        "id": "w2Vmu2Y6ryvC"
      },
      "source": [
        "지금 책이랑 결과값이 다를텐데 \n",
        "\n",
        "다르게 나오는 이유는...데이터가 바뀌어섴ㅋㅋㅋ 게다가 케라스 버전도 바뀌었음..."
      ]
    },
    {
      "cell_type": "markdown",
      "metadata": {
        "id": "YKNkrWq3sX-Q"
      },
      "source": [
        "## 이미지\n",
        "\n",
        "이미지부터는 코랩에서 돌리기 좀 힘들 수 있음 \n",
        "아나콘다 깔고 내장 로컬로 돌려야함\n",
        "\n",
        "m1 칩셋에 에어 보급형은 gpu가 7개 고급형은 8개 \n",
        "\n",
        "5장 봐야 아이폰으로 사진찍어서 구별하는 걸 할 수 있어\n",
        "\n",
        "---\n",
        "\n",
        "#### 질문: 사람들이 하트를 그렸는데 이 그린 걸 하트라는 걸 이해하려면 어떻게 해야 하나요?\n",
        "\n",
        "사용자의 그림을 피쳐로 놓고 영어로 하트: 라벨\n",
        "사람들이 손으로 그린...데이터가 많이 필요하겠쥬?\n",
        "\n",
        "인식 못한 거를 데이터 라벨링 하고 다시 매칭시켜줘야 해\n",
        "라벨링 개수가 높을 수록 정확도는 떨어질거야 그래서 \n",
        "라벨링 수를 최소로 놓고( 예를 들면 개와 고양이 처럼 명확하게 두 개로 구분)\n",
        "\n",
        "\n",
        "---\n",
        "\n",
        "model 만드는 거 까진 구글 괜춘\n",
        "마소는 클라우드 연동이 좋음\n",
        "aws는 운용이 좋음\n",
        "\n",
        "\n",
        "---\n",
        "\n",
        "호갱노노\n",
        "\n",
        "두 달안에 실거래가를 공개해야 하기 때문에 데이터가 많아 계에엥속 나왕\n",
        "\n",
        "---\n",
        "\n",
        "네이버맵 이용해서 함 해봐도 재밌겠다. "
      ]
    }
  ]
}