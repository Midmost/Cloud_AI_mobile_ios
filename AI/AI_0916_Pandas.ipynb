{
  "nbformat": 4,
  "nbformat_minor": 0,
  "metadata": {
    "colab": {
      "name": "AI_0916_Pandas.ipynb",
      "private_outputs": true,
      "provenance": [],
      "collapsed_sections": [],
      "authorship_tag": "ABX9TyNC1af+3HlkXT92uaNB4TGh",
      "include_colab_link": true
    },
    "kernelspec": {
      "name": "python3",
      "display_name": "Python 3"
    },
    "language_info": {
      "name": "python"
    }
  },
  "cells": [
    {
      "cell_type": "markdown",
      "metadata": {
        "id": "view-in-github",
        "colab_type": "text"
      },
      "source": [
        "<a href=\"https://colab.research.google.com/github/Midmost/Cloud_AI_mobile_ios/blob/main/AI/AI_0916_Pandas.ipynb\" target=\"_parent\"><img src=\"https://colab.research.google.com/assets/colab-badge.svg\" alt=\"Open In Colab\"/></a>"
      ]
    },
    {
      "cell_type": "code",
      "metadata": {
        "id": "shnn2jEFI19Z"
      },
      "source": [
        "from pandas import Series, DataFrame\n",
        "import pandas as pd # !pip install pandas"
      ],
      "execution_count": null,
      "outputs": []
    },
    {
      "cell_type": "code",
      "metadata": {
        "id": "ZYF2nBKwJ2NV"
      },
      "source": [
        "!ls -al "
      ],
      "execution_count": null,
      "outputs": []
    },
    {
      "cell_type": "code",
      "metadata": {
        "id": "nt1yyze4J3Rd"
      },
      "source": [
        "fruit = Series([2500, 3800, 1200, 6000], index = ['apple', 'banana', 'peer', 'cherry'])"
      ],
      "execution_count": null,
      "outputs": []
    },
    {
      "cell_type": "code",
      "metadata": {
        "id": "ri4jYisMQeuD"
      },
      "source": [
        "fruit"
      ],
      "execution_count": null,
      "outputs": []
    },
    {
      "cell_type": "code",
      "metadata": {
        "id": "wBI_HRl9QgEY"
      },
      "source": [
        "#Dataframe"
      ],
      "execution_count": null,
      "outputs": []
    },
    {
      "cell_type": "code",
      "metadata": {
        "id": "PxEV97JlQm3o"
      },
      "source": [
        "fruitData = {'fruitName':['apple','banana','peer','cherry',],\n",
        "             'fruitPrice': [2500,3800,6000,1200],\n",
        "             'num':[10,5,3,8]}"
      ],
      "execution_count": null,
      "outputs": []
    },
    {
      "cell_type": "code",
      "metadata": {
        "id": "DtR28-xBRFnF"
      },
      "source": [
        "type(fruitData)\n",
        "dict\n",
        "fruitFrame = DataFrame(fruitData)"
      ],
      "execution_count": null,
      "outputs": []
    },
    {
      "cell_type": "code",
      "metadata": {
        "id": "OuGvSn6vRkJ_"
      },
      "source": [
        "fruitFrame"
      ],
      "execution_count": null,
      "outputs": []
    },
    {
      "cell_type": "code",
      "metadata": {
        "id": "6T7UwfG_RqEo"
      },
      "source": [
        "fruitFrame = DataFrame(fruitData,columns=['fruitPrice','num','fruitName'])"
      ],
      "execution_count": null,
      "outputs": []
    },
    {
      "cell_type": "code",
      "metadata": {
        "id": "73FqMPylSQ_4"
      },
      "source": [
        "fruitFrame"
      ],
      "execution_count": null,
      "outputs": []
    },
    {
      "cell_type": "code",
      "metadata": {
        "id": "G65eQ5VfSSpH"
      },
      "source": [
        "fruitFrame['fruitName']"
      ],
      "execution_count": null,
      "outputs": []
    },
    {
      "cell_type": "code",
      "metadata": {
        "id": "KUhTeYsvSi4O"
      },
      "source": [
        "variable = Series([4,2,1],index = [0,2,3]) # 인덱스가 0,1,2 이렇게 순서라 가야 하는데 0,2,3 으로 건너뛰니까"
      ],
      "execution_count": null,
      "outputs": []
    },
    {
      "cell_type": "code",
      "metadata": {
        "id": "_RgeYHYrUNKN"
      },
      "source": [
        "fruitFrame['stock'] = variable"
      ],
      "execution_count": null,
      "outputs": []
    },
    {
      "cell_type": "code",
      "metadata": {
        "id": "dBsz7vBQTskA"
      },
      "source": [
        "fruitFrame # 인덱스가 0,1,2 이렇게 순서라 가야 하는데 0,2,3 으로 건너뛰니까 이렇게 NaN 값이 떠버렸"
      ],
      "execution_count": null,
      "outputs": []
    },
    {
      "cell_type": "code",
      "metadata": {
        "id": "bDIJaFJ6TuoD"
      },
      "source": [
        "new_fruit = fruit.drop('banana') # 안에 있는 항목 하나 삭제할 때는 drop이란 명령어를 사용한다. "
      ],
      "execution_count": null,
      "outputs": []
    },
    {
      "cell_type": "code",
      "metadata": {
        "id": "lYBnx1JyUsuf"
      },
      "source": [
        "new_fruit"
      ],
      "execution_count": null,
      "outputs": []
    },
    {
      "cell_type": "code",
      "metadata": {
        "id": "mRcxKUB5UuYg"
      },
      "source": [
        "fruitName = fruitData['fruitName']"
      ],
      "execution_count": null,
      "outputs": []
    },
    {
      "cell_type": "code",
      "metadata": {
        "id": "5mpCl1U9W5au"
      },
      "source": [
        ""
      ],
      "execution_count": null,
      "outputs": []
    }
  ]
}