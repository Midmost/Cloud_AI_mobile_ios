{
  "nbformat": 4,
  "nbformat_minor": 0,
  "metadata": {
    "colab": {
      "name": "AI_Gate&ActivationFunction_0923.ipynb",
      "private_outputs": true,
      "provenance": [],
      "collapsed_sections": [],
      "authorship_tag": "ABX9TyPESz9sSCNNEgvXhNyZs0i2",
      "include_colab_link": true
    },
    "kernelspec": {
      "name": "python3",
      "display_name": "Python 3"
    },
    "language_info": {
      "name": "python"
    }
  },
  "cells": [
    {
      "cell_type": "markdown",
      "metadata": {
        "id": "view-in-github",
        "colab_type": "text"
      },
      "source": [
        "<a href=\"https://colab.research.google.com/github/Midmost/Cloud_AI_mobile_ios/blob/main/AI/AI_Gate%26ActivationFunction_0923.ipynb\" target=\"_parent\"><img src=\"https://colab.research.google.com/assets/colab-badge.svg\" alt=\"Open In Colab\"/></a>"
      ]
    },
    {
      "cell_type": "markdown",
      "metadata": {
        "id": "kBLi6wlegVZe"
      },
      "source": [
        "# GATE"
      ]
    },
    {
      "cell_type": "code",
      "metadata": {
        "id": "16ZUK1WQDwYI"
      },
      "source": [
        "import numpy as np\n",
        "import matplotlib.pyplot as plt\n",
        "plt.style.use(['seaborn-whitegrid'])"
      ],
      "execution_count": null,
      "outputs": []
    },
    {
      "cell_type": "code",
      "metadata": {
        "id": "vX6ptN0tGWFa"
      },
      "source": [
        "# AND Gate\n",
        "def AND(a, b):\n",
        "  input = np.array([a,b])\n",
        "  weights = np.array([0.4,0.4])\n",
        "  bias = -0.6\n",
        "  value = np.sum(input * weights) + bias\n",
        "\n",
        "  if value <=0:\n",
        "    return 0\n",
        "  else:\n",
        "    return 1"
      ],
      "execution_count": null,
      "outputs": []
    },
    {
      "cell_type": "code",
      "metadata": {
        "id": "f1wf1upkG0LE"
      },
      "source": [
        "print(AND(0,0))\n",
        "print(AND(0,1))\n",
        "print(AND(1,0))\n",
        "print(AND(1,1))"
      ],
      "execution_count": null,
      "outputs": []
    },
    {
      "cell_type": "markdown",
      "metadata": {
        "id": "Lp4cbyTeHq4j"
      },
      "source": [
        "왜 이렇게 되는걸까? 알 수 없어! 이 때 데이터 시각화를 해보자"
      ]
    },
    {
      "cell_type": "code",
      "metadata": {
        "id": "n1NWNWrJHiFg"
      },
      "source": [
        "x1 = np.arange(-2, 2, 0.01) # (-2 ~ 2) 사이 숫자를 0.01 단위로 생성을 해준다 \n",
        "x2 = np.arange(-2, 2, 0.01)\n",
        "bias = -0.6\n",
        "\n",
        "y1 = (-0.4 * x1 - bias) / 0.4\n",
        "y2 = (-0.4 * x1 - bias) * 0.4"
      ],
      "execution_count": null,
      "outputs": []
    },
    {
      "cell_type": "code",
      "metadata": {
        "id": "pb71M907IM97"
      },
      "source": [
        "plt.plot(x1, y1, 'r--')\n",
        "plt.plot(x1, y2, 'b--')"
      ],
      "execution_count": null,
      "outputs": []
    },
    {
      "cell_type": "code",
      "metadata": {
        "id": "HrGiyyBlIqxp"
      },
      "source": [
        "plt.plot(x1, y1, 'r--')\n",
        "\n",
        "plt.scatter(0,0, color='orange', marker='o', s=150)\n",
        "plt.scatter(0,1, color='orange', marker='o', s=150)\n",
        "plt.scatter(1,0, color='orange', marker='o', s=150)\n",
        "plt.scatter(1,1, color='orange', marker='^', s=150)\n",
        "plt.xlim(-0.5, 1.5)\n",
        "plt.ylim(-0.5, 1.5)"
      ],
      "execution_count": null,
      "outputs": []
    },
    {
      "cell_type": "code",
      "metadata": {
        "id": "zLznZqwKJEvm"
      },
      "source": [
        "# OR Gate\n",
        "def OR(a,b):\n",
        "  input = np.array([a,b])\n",
        "  weights = np.array([0.4,0.5])\n",
        "  bias = -0.3\n",
        "  value = np.sum(input * weights) + bias\n",
        "\n",
        "  if value <= 0:\n",
        "    return 0\n",
        "  else:\n",
        "    return 1\n"
      ],
      "execution_count": null,
      "outputs": []
    },
    {
      "cell_type": "code",
      "metadata": {
        "id": "uAi9V0RwK4fp"
      },
      "source": [
        "print(OR(0,0))\n",
        "print(OR(0,1))\n",
        "print(OR(1,0))\n",
        "print(OR(1,1))"
      ],
      "execution_count": null,
      "outputs": []
    },
    {
      "cell_type": "code",
      "metadata": {
        "id": "oOMXVfJjLOfL"
      },
      "source": [
        "x1 = np.arange(-2,2,0.01)\n",
        "x2 = np.arange(-2,2,0.01)\n",
        "bias = -0.3\n",
        "y = (-0.4 * x1 - bias) / 0.4\n",
        "\n",
        "plt.plot(x1, y, 'r--')\n",
        "plt.scatter(0,0, color='black', marker='^', s= 150)\n",
        "plt.scatter(0,1, color='orange', marker='^', s= 150)\n",
        "plt.scatter(1,0, color='orange', marker='^', s= 150)\n",
        "plt.scatter(1,1, color='orange', marker='^', s= 150)\n",
        "plt.xlim(-0.5, 1.5)\n",
        "plt.ylim(-0.5, 1.5)"
      ],
      "execution_count": null,
      "outputs": []
    },
    {
      "cell_type": "markdown",
      "metadata": {
        "id": "bwk2-41lOY5o"
      },
      "source": [
        "Q. bias 값이 -0.6 에서 -0.3으로 바뀌었을 뿐인데 왜 and에서 or로 바뀐건가요?"
      ]
    },
    {
      "cell_type": "markdown",
      "metadata": {
        "id": "bBPzkMaHSJb1"
      },
      "source": [
        "A. 네 꼭지점에서 나머지 조건들이 전부다 1이 되면 되고 0,0 만 0이 되게끔 만들기 위해\n",
        "원하는 로직대로 자르기 위해 선을 조정중인거야 "
      ]
    },
    {
      "cell_type": "code",
      "metadata": {
        "id": "cBcv7m60MQQJ"
      },
      "source": [
        "#NAND\n",
        "\n",
        "def NAND(a,b):\n",
        "  input = np.array([a,b])\n",
        "  weights = np.array([-0.6, -0.5])\n",
        "  bias = 0.7\n",
        "  value = np.sum(input*weights) + bias\n",
        "\n",
        "  if value <=0:\n",
        "    return 0\n",
        "  else:\n",
        "    return 1"
      ],
      "execution_count": null,
      "outputs": []
    },
    {
      "cell_type": "code",
      "metadata": {
        "id": "HNTsSB2gSyIF"
      },
      "source": [
        "print(NAND(0,0))\n",
        "print(NAND(0,1))\n",
        "print(NAND(1,0))\n",
        "print(NAND(1,1))"
      ],
      "execution_count": null,
      "outputs": []
    },
    {
      "cell_type": "code",
      "metadata": {
        "id": "sWi519oSTM6W"
      },
      "source": [
        "x1 = np.arange(-2,2,0.01)\n",
        "x2 = np.arange(-2,2,0.01)\n",
        "bias = 0.7\n",
        "\n",
        "y = (0.6*x1 - bias) / -0.5\n",
        "plt.plot(x1, y, 'r--')\n",
        "plt.scatter(0,0, color='black', marker='o', s=150)\n",
        "plt.scatter(0,1, color='black', marker='o', s=150)\n",
        "plt.scatter(1,0, color='black', marker='o', s=150)\n",
        "plt.scatter(1,1, color='orange', marker='^', s=150)"
      ],
      "execution_count": null,
      "outputs": []
    },
    {
      "cell_type": "markdown",
      "metadata": {
        "id": "uX0GuNAlUvhr"
      },
      "source": [
        "# XOR\n",
        "\n",
        "아무리 계산해도 게이트 하나로는 할 수가 없어\n",
        "리니어하지 않는거지. 그래서 다틍 퍼셉트론 MUlti Layer Perceptro, mlp가 나오게 된 거댜!\n",
        "위의 게이트들을 조합해서 사용해보자"
      ]
    },
    {
      "cell_type": "code",
      "metadata": {
        "id": "ziuIQJzuTmKI"
      },
      "source": [
        "# XOR\n",
        "def XOR(x1, x2):\n",
        "  s1 = NAND(x1, x2)\n",
        "  s2 = OR(x1, x2)\n",
        "  y = AND(s1, s2)\n",
        "\n",
        "  return y"
      ],
      "execution_count": null,
      "outputs": []
    },
    {
      "cell_type": "code",
      "metadata": {
        "id": "LErFzZyqViSP"
      },
      "source": [
        "print(XOR(0,0))\n",
        "print(XOR(0,1))\n",
        "print(XOR(1,0))\n",
        "print(XOR(1,1))"
      ],
      "execution_count": null,
      "outputs": []
    },
    {
      "cell_type": "markdown",
      "metadata": {
        "id": "Z2J9npBkV5aZ"
      },
      "source": [
        "# Activation Function\n",
        "\n",
        "ex) 재난지원금\n",
        "극단적인 계단 함수로 봤을 때 88% 소득분위 사람이나 89% 소득분위 사람이나 비슷하기 마찬가지\n",
        "곡선을 주면 변별력이 생기는 거지 \n",
        "어쨌든 들어오는 값들에 따라서 어떻게 반응할거냐! 이를 활성화함수 라고 부른다"
      ]
    },
    {
      "cell_type": "code",
      "metadata": {
        "id": "9o1Iea21VpOV"
      },
      "source": [
        "# 활성화 함수\n",
        "# Step Function(계단함수)\n",
        "\n",
        "def step_function(x):\n",
        "  if x > 0:\n",
        "    return 1\n",
        "  else:\n",
        "    return 0"
      ],
      "execution_count": null,
      "outputs": []
    },
    {
      "cell_type": "code",
      "metadata": {
        "id": "U6ZtD-joXkX_"
      },
      "source": [
        "print(step_function(-3))\n",
        "print(step_function(5))"
      ],
      "execution_count": null,
      "outputs": []
    },
    {
      "cell_type": "markdown",
      "metadata": {
        "id": "egUXZNBkX8fH"
      },
      "source": [
        "# Sigmoid Function\n",
        "보통 이진분류(사진을 비교했을 때 개인지 고양이인지) 용으로 쓰인다. "
      ]
    },
    {
      "cell_type": "code",
      "metadata": {
        "id": "gMSoobt5Xxfu"
      },
      "source": [
        "def sigmoid(x):\n",
        "  return 1/ (1 + np.exp(-x))"
      ],
      "execution_count": null,
      "outputs": []
    },
    {
      "cell_type": "code",
      "metadata": {
        "id": "evSSUFaTY6KE"
      },
      "source": [
        "print(sigmoid(3)) # 대충 95프로 라는 뜻\n",
        "print(sigmoid(-3))"
      ],
      "execution_count": null,
      "outputs": []
    },
    {
      "cell_type": "markdown",
      "metadata": {
        "id": "KIulBjcJZmwI"
      },
      "source": [
        "# ReLU Functino\n",
        "아 모르겠당 이거 걍 넣어\n",
        "\n",
        "특정값 이하는 무시하고 그 값 이상은 원래 값 그대로 출력\n",
        "\n",
        "웬만하면 다 맞는 함수 ㅋ 개꿀~"
      ]
    },
    {
      "cell_type": "code",
      "metadata": {
        "id": "x_ro6FhjZvHv"
      },
      "source": [
        "# ReLU \n",
        "def ReLU(x):\n",
        "  if x > 0:\n",
        "    return x\n",
        "  else:\n",
        "    return 0"
      ],
      "execution_count": null,
      "outputs": []
    },
    {
      "cell_type": "code",
      "metadata": {
        "id": "yvoBDK6faFG7"
      },
      "source": [
        "# 결과를 확인하기 위해 함수를 호출 해보자\n",
        "print(ReLU(5))\n",
        "print(ReLU(-5))"
      ],
      "execution_count": null,
      "outputs": []
    },
    {
      "cell_type": "markdown",
      "metadata": {
        "id": "Zm3wk0GhasWH"
      },
      "source": [
        "# Identity Function\n",
        "항등함수 \n",
        "회귀문제에서 나오는데...왜...쓰는 건지는 잘 모르겠넴"
      ]
    },
    {
      "cell_type": "code",
      "metadata": {
        "id": "dorwGGXIabJH"
      },
      "source": [
        "# Identity Function\n",
        "def identify_function(x):\n",
        "  return x"
      ],
      "execution_count": null,
      "outputs": []
    },
    {
      "cell_type": "code",
      "metadata": {
        "id": "SBUPBIFkbQgz"
      },
      "source": [
        "print(identify_function(6))\n",
        "print(identify_function(-12))"
      ],
      "execution_count": null,
      "outputs": []
    },
    {
      "cell_type": "code",
      "metadata": {
        "id": "-_9Q7epSfWoD"
      },
      "source": [
        "def Softmax(a):\n",
        "  exp_a = np.exp(a)\n",
        "  sum_exp_a = np.sum(exp_a)\n",
        "  y = exp_a / sum_exp_a\n",
        "\n",
        "  return y"
      ],
      "execution_count": null,
      "outputs": []
    },
    {
      "cell_type": "code",
      "metadata": {
        "id": "i_ZsWE9Gfkgt"
      },
      "source": [
        "a = np.array([0.3,0.2,3.0,-1.2])\n",
        "print(Softmax(a))\n",
        "print(np.sum(Softmax(a)))"
      ],
      "execution_count": null,
      "outputs": []
    },
    {
      "cell_type": "code",
      "metadata": {
        "id": "0VzO0Dh9fykg"
      },
      "source": [
        "#일반적인 케이스 \n",
        "ELU\n",
        "LeakyReLU\n",
        "ReLUtanh\n",
        "sigmoid\n",
        "###\n",
        "\n",
        "#Stanford\n",
        "ReLUReLU Family(LeakyReLu, ELU)\n",
        "Sigmoid (x)\n",
        "###"
      ],
      "execution_count": null,
      "outputs": []
    }
  ]
}