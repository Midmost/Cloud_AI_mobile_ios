{
  "nbformat": 4,
  "nbformat_minor": 0,
  "metadata": {
    "colab": {
      "name": "AI_0916_Numpy.ipynb",
      "private_outputs": true,
      "provenance": [],
      "authorship_tag": "ABX9TyM9yVhkRJGA62QLWJdzJO+m",
      "include_colab_link": true
    },
    "kernelspec": {
      "name": "python3",
      "display_name": "Python 3"
    },
    "language_info": {
      "name": "python"
    }
  },
  "cells": [
    {
      "cell_type": "markdown",
      "metadata": {
        "id": "view-in-github",
        "colab_type": "text"
      },
      "source": [
        "<a href=\"https://colab.research.google.com/github/Midmost/Cloud_AI_mobile_ios/blob/main/AI/AI_0916_Numpy.ipynb\" target=\"_parent\"><img src=\"https://colab.research.google.com/assets/colab-badge.svg\" alt=\"Open In Colab\"/></a>"
      ]
    },
    {
      "cell_type": "markdown",
      "metadata": {
        "id": "-5q-3rjhmDu3"
      },
      "source": [
        "넘파이 왜쓰는 줄 알아? 속도가 개빨라"
      ]
    },
    {
      "cell_type": "code",
      "metadata": {
        "id": "HPy2oe_RlefQ"
      },
      "source": [
        "import numpy as np"
      ],
      "execution_count": null,
      "outputs": []
    },
    {
      "cell_type": "code",
      "metadata": {
        "id": "o5glmlhHlkQU"
      },
      "source": [
        "# 일반 파이썬 list 배열을 numpy 배열로 바꾸고 싶다\n",
        "arr = np.array([1,2,3,4])"
      ],
      "execution_count": null,
      "outputs": []
    },
    {
      "cell_type": "markdown",
      "metadata": {
        "id": "va_yMVFqmZF4"
      },
      "source": [
        "\n",
        "# 변수 \n",
        "메모리가 있을 때 특정부분에 값을 할당하고 싶은 게 변수를 생성하는 건데 이게 c언어에서 배우던 거래 근데 우리도 배웠음 ㅇㅇ \n",
        "\n",
        "메모리의 특정 공간의 주소를 할당받은거지 공간을 완전 다 가지는 게 아님 \n",
        "그 공간안에 기존의 다른 프로그램이 썼던 값이 다 남아있음. \n",
        "\n",
        "만약 변수를 그냥 생성하면 그 안에 알 수 없는 값들이 들어있어. 뭐가 나올지 몰라.\n",
        "그래서 초기화해줄 필요가 있어. \n",
        "그래서 넘파이에서는 \n",
        "np.zeros((0,0))으로 초기화르 해줘"
      ]
    },
    {
      "cell_type": "code",
      "metadata": {
        "id": "7gBmACB7l3dm"
      },
      "source": [
        "np.zeros((3,3))"
      ],
      "execution_count": null,
      "outputs": []
    },
    {
      "cell_type": "markdown",
      "metadata": {
        "id": "Xsa3FKY6nhwO"
      },
      "source": [
        "1로 초기화 해볼까"
      ]
    },
    {
      "cell_type": "code",
      "metadata": {
        "id": "rSRdcB7vnNxr"
      },
      "source": [
        "np.ones((2,2))"
      ],
      "execution_count": null,
      "outputs": []
    },
    {
      "cell_type": "markdown",
      "metadata": {
        "id": "Jfwq3uIznlcu"
      },
      "source": [
        "초기화고 뭐고 나 그냥 배열 만들랭 빈 거"
      ]
    },
    {
      "cell_type": "code",
      "metadata": {
        "id": "ZRzKSThfngjG"
      },
      "source": [
        "np.empty((4,4))"
      ],
      "execution_count": null,
      "outputs": []
    },
    {
      "cell_type": "markdown",
      "metadata": {
        "id": "VOoLZAxZnsbW"
      },
      "source": [
        "어라 값이 왜저래? -> 초기화를 안 했쟈나 바보야 그냥 만들면 저따구가 되는거임\n",
        "프로그램을 만들고 삭제하면 메모리는 남아. "
      ]
    },
    {
      "cell_type": "code",
      "metadata": {
        "id": "hTEvkx88npvI"
      },
      "source": [
        "np.arange(10)"
      ],
      "execution_count": null,
      "outputs": []
    },
    {
      "cell_type": "code",
      "metadata": {
        "id": "iMNN7dOEn6XH"
      },
      "source": [
        "arr = np.array([[1,2,3],[4,5,6]])\n",
        "print(arr)"
      ],
      "execution_count": null,
      "outputs": []
    },
    {
      "cell_type": "markdown",
      "metadata": {
        "id": "PRdQqKTCogXI"
      },
      "source": [
        "대부분의 데이터들이 넘파이 배열로 오는 경우가 많은데 어떤 형식으로 왔는지 알아둘 필요가 있음\n",
        "배열의 구조를 파악해두는 연습할 필요있다\n",
        "구조를 파악하려면? shape을 쓰면 됨"
      ]
    },
    {
      "cell_type": "code",
      "metadata": {
        "id": "rmqS0AcaoXEX"
      },
      "source": [
        "arr.shape # 2차원 데이터고 안의 구성요소는 3개가 있다. "
      ],
      "execution_count": null,
      "outputs": []
    },
    {
      "cell_type": "code",
      "metadata": {
        "id": "oP1MB_NgovTB"
      },
      "source": [
        "arr.ndim # 차원을 파악할 때는 ndim 쓰기"
      ],
      "execution_count": null,
      "outputs": []
    },
    {
      "cell_type": "markdown",
      "metadata": {
        "id": "qSgYwvUio9-D"
      },
      "source": [
        "여기서 말하는 차원은 방향과 면적 공간을 차원으로 표현表現"
      ]
    },
    {
      "cell_type": "code",
      "metadata": {
        "id": "hSWPEVM7qBWr"
      },
      "source": [
        "arr.dtype"
      ],
      "execution_count": null,
      "outputs": []
    },
    {
      "cell_type": "markdown",
      "metadata": {
        "id": "-flnWW-hq-aA"
      },
      "source": [
        "변수를 사용할 때도 정수를 int64라고 한다면 \n",
        "\n",
        "이게 16비트 타입의 정수다 -> 6만 얼마~\n",
        "32비트 -> 옛날 컴터\n",
        "64비트! -> 와아ㅏㅏ요즘시대 "
      ]
    },
    {
      "cell_type": "code",
      "metadata": {
        "id": "4UucHpAjqDaH"
      },
      "source": [
        "arr_int = np.array([1,2,3,4])"
      ],
      "execution_count": null,
      "outputs": []
    },
    {
      "cell_type": "code",
      "metadata": {
        "id": "y3N9PW16r8bS"
      },
      "source": [
        "arr_int.dtype"
      ],
      "execution_count": null,
      "outputs": []
    },
    {
      "cell_type": "code",
      "metadata": {
        "id": "mtzZHRGdr_lh"
      },
      "source": [
        "arr_float = arr_int.astype(np.float64)"
      ],
      "execution_count": null,
      "outputs": []
    },
    {
      "cell_type": "code",
      "metadata": {
        "id": "CjJzZ5r1sJ7T"
      },
      "source": [
        "arr_float.dtype"
      ],
      "execution_count": null,
      "outputs": []
    },
    {
      "cell_type": "markdown",
      "metadata": {
        "id": "SXWeXsrWslob"
      },
      "source": [
        "type이 바뀌었는데 아느이 내용은 어찌 변했을까?"
      ]
    },
    {
      "cell_type": "code",
      "metadata": {
        "id": "HQD7rKoIsX75"
      },
      "source": [
        "arr_float"
      ],
      "execution_count": null,
      "outputs": []
    },
    {
      "cell_type": "code",
      "metadata": {
        "id": "pQb1li4lspzO"
      },
      "source": [
        "arr_str = np.array(['1','2','3','4'])"
      ],
      "execution_count": null,
      "outputs": []
    },
    {
      "cell_type": "code",
      "metadata": {
        "id": "oi__edNcs5Qg"
      },
      "source": [
        "#ndarray 배열의 연산"
      ],
      "execution_count": null,
      "outputs": []
    },
    {
      "cell_type": "code",
      "metadata": {
        "id": "JKjMoNvRtggi"
      },
      "source": [
        "arr1 = np.array([[1,2],[3,4]])\n",
        "arr2 = np.array([[5,6],[7,8]])\n",
        "\n",
        "arr1 * arr2"
      ],
      "execution_count": null,
      "outputs": []
    },
    {
      "cell_type": "code",
      "metadata": {
        "id": "fcgGAQNZtkr4"
      },
      "source": [
        "#subtract, divide\n",
        "#dot 함수를 이용 행렬ㄹ의 곱 계산하기"
      ],
      "execution_count": null,
      "outputs": []
    },
    {
      "cell_type": "code",
      "metadata": {
        "id": "dBuassPjuyyu"
      },
      "source": [
        "arr1.dot(arr2)"
      ],
      "execution_count": null,
      "outputs": []
    },
    {
      "cell_type": "code",
      "metadata": {
        "id": "mt5eD8K-u0d4"
      },
      "source": [
        "arr = np.array([[1,2,3],[4,5,6],[7,8,9]])"
      ],
      "execution_count": null,
      "outputs": []
    },
    {
      "cell_type": "code",
      "metadata": {
        "id": "BEJuA_C9BfFj"
      },
      "source": [
        "arr_1 = arr[:2, 1:3]"
      ],
      "execution_count": null,
      "outputs": []
    },
    {
      "cell_type": "code",
      "metadata": {
        "id": "x8hVk00EBkVG"
      },
      "source": [
        "arr[0,2]"
      ],
      "execution_count": null,
      "outputs": []
    },
    {
      "cell_type": "code",
      "metadata": {
        "id": "W7CGPdbgCVqR"
      },
      "source": [
        "arr = np.array([[1,2,3],[4,5,6]])"
      ],
      "execution_count": null,
      "outputs": []
    },
    {
      "cell_type": "code",
      "metadata": {
        "id": "RFbRMvGJCt6O"
      },
      "source": [
        "idx = arr > 2"
      ],
      "execution_count": null,
      "outputs": []
    },
    {
      "cell_type": "code",
      "metadata": {
        "id": "Odpl1GNvDC9C"
      },
      "source": [
        "arr[idx]"
      ],
      "execution_count": null,
      "outputs": []
    },
    {
      "cell_type": "markdown",
      "metadata": {
        "id": "Zn4DeKwLHg6I"
      },
      "source": [
        "https://github.com/Midmost/AI/tree/master/HOL/04.Numpy%2C%20Pandas%2C%20Matplotlib/samples \n",
        "\n",
        "여기서 csv 가져오고"
      ]
    },
    {
      "cell_type": "code",
      "metadata": {
        "id": "Upg9cOK9DQfg"
      },
      "source": [
        "redwine = np.loadtxt(fname = './winequality-red.csv', delimiter=';', skiprows = 1)"
      ],
      "execution_count": null,
      "outputs": []
    },
    {
      "cell_type": "markdown",
      "metadata": {
        "id": "Vy4DjnA4GtlR"
      },
      "source": [
        "csv는 원래 콤마로 구분하는데 얘는 지금 ;로 구분 중\n",
        "그래서 delimiter 변경해줌"
      ]
    },
    {
      "cell_type": "code",
      "metadata": {
        "id": "2TyJ6VRgHvhQ"
      },
      "source": [
        "redwine.sum()\n",
        "redwine.mean(axis=0) # 가로축으로 보겠다"
      ],
      "execution_count": null,
      "outputs": []
    }
  ]
}