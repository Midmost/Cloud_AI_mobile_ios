{
  "nbformat": 4,
  "nbformat_minor": 0,
  "metadata": {
    "colab": {
      "name": "AI_0917_Matplotlib.ipynb",
      "private_outputs": true,
      "provenance": [],
      "collapsed_sections": [],
      "authorship_tag": "ABX9TyMIcAS1fudNehaO3NRqh/MW",
      "include_colab_link": true
    },
    "kernelspec": {
      "name": "python3",
      "display_name": "Python 3"
    },
    "language_info": {
      "name": "python"
    }
  },
  "cells": [
    {
      "cell_type": "markdown",
      "metadata": {
        "id": "view-in-github",
        "colab_type": "text"
      },
      "source": [
        "<a href=\"https://colab.research.google.com/github/Midmost/Cloud_AI_mobile_ios/blob/main/AI/AI_0917_Matplotlib.ipynb\" target=\"_parent\"><img src=\"https://colab.research.google.com/assets/colab-badge.svg\" alt=\"Open In Colab\"/></a>"
      ]
    },
    {
      "cell_type": "code",
      "metadata": {
        "id": "HEp5QW-OtfwZ"
      },
      "source": [
        "import matplotlib.pyplot as plt"
      ],
      "execution_count": null,
      "outputs": []
    },
    {
      "cell_type": "code",
      "metadata": {
        "id": "AaDK2YyMtsGL"
      },
      "source": [
        "import numpy as np"
      ],
      "execution_count": null,
      "outputs": []
    },
    {
      "cell_type": "code",
      "metadata": {
        "id": "anq-hRGQt2jR"
      },
      "source": [
        "x = np.linspace(0, 10, 100)"
      ],
      "execution_count": null,
      "outputs": []
    },
    {
      "cell_type": "code",
      "metadata": {
        "id": "pRLzaxfCuCHE"
      },
      "source": [
        "x + 100"
      ],
      "execution_count": null,
      "outputs": []
    },
    {
      "cell_type": "code",
      "metadata": {
        "id": "8yGabmSFuH4k"
      },
      "source": [
        "np.sin(x)"
      ],
      "execution_count": null,
      "outputs": []
    },
    {
      "cell_type": "code",
      "metadata": {
        "id": "6E_WlN0oufrJ"
      },
      "source": [
        "plt.plot(x,np.sin(x))"
      ],
      "execution_count": null,
      "outputs": []
    },
    {
      "cell_type": "code",
      "metadata": {
        "id": "IosJ4knnvAuC"
      },
      "source": [
        "plt.plot(x, np.cos(x))"
      ],
      "execution_count": null,
      "outputs": []
    },
    {
      "cell_type": "code",
      "metadata": {
        "id": "4AljLLvGvW9e"
      },
      "source": [
        "plt.plot(x, np.sin(x))\n",
        "plt.plot(x, np.cos(x)) # 둘 사이에 위상차이가 있댜아아"
      ],
      "execution_count": null,
      "outputs": []
    },
    {
      "cell_type": "code",
      "metadata": {
        "id": "xGGFVf-ivxu2"
      },
      "source": [
        "fig = plt.figure()\n",
        "plt.plot(x, np.sin(x), '-')\n",
        "plt.plot(x, np.cos(x), '--')\n",
        "fig.savefig('my_figure.png')"
      ],
      "execution_count": null,
      "outputs": []
    },
    {
      "cell_type": "code",
      "metadata": {
        "id": "_KZOqKP9wEIC"
      },
      "source": [
        "fig.canvas.get_supported_filetypes()"
      ],
      "execution_count": null,
      "outputs": []
    },
    {
      "cell_type": "code",
      "metadata": {
        "id": "ZGB_9OtmxETs"
      },
      "source": [
        "plt.figure()"
      ],
      "execution_count": null,
      "outputs": []
    },
    {
      "cell_type": "code",
      "metadata": {
        "id": "xe0k7HDFxamf"
      },
      "source": [
        "plt.subplot(2,1,1)  # (rows, column1, column1)\n",
        "plt.plot(x, np.sin(x))\n",
        "plt.subplot(2,1,2)\n",
        "plt.plot(x, np.cos(x))"
      ],
      "execution_count": null,
      "outputs": []
    },
    {
      "cell_type": "code",
      "metadata": {
        "id": "mZHtmXyoxjOY"
      },
      "source": [
        "plt.style.use('seaborn-whitegrid')"
      ],
      "execution_count": null,
      "outputs": []
    },
    {
      "cell_type": "code",
      "metadata": {
        "id": "SynBBSzDyGgz"
      },
      "source": [
        "plt.plot(x, np.sin(x-0), color = 'blue')\n",
        "plt.plot(x, np.sin(x-1), color = 'g')\n",
        "plt.plot(x, np.sin(x-2), color = '0.85')\n",
        "plt.plot(x, np.sin(x-3), color = '#FFDD24')\n",
        "plt.plot(x, np.sin(x-4), color = (1.0, 0.2, 0.3))\n",
        "plt.plot(x, np.sin(x-2), color = 'chartreuse')"
      ],
      "execution_count": null,
      "outputs": []
    },
    {
      "cell_type": "code",
      "metadata": {
        "id": "VjecpYEQzgRd"
      },
      "source": [
        "plt.plot(x, np.sin(x-0), linestyle = 'solid')\n",
        "plt.plot(x, np.sin(x-1), linestyle = 'dashed')\n",
        "plt.plot(x, np.sin(x-2), linestyle = 'dashdot')\n",
        "plt.plot(x, np.sin(x-3), linestyle = 'dotted')\n",
        "\n",
        "plt.plot(x, np.sin(x-4), linestyle = '-')\n",
        "plt.plot(x, np.sin(x-5), linestyle = '--')\n",
        "plt.plot(x, np.sin(x-6), linestyle = '-.')\n",
        "plt.plot(x, np.sin(x-7), linestyle = ':')\n"
      ],
      "execution_count": null,
      "outputs": []
    },
    {
      "cell_type": "code",
      "metadata": {
        "id": "NEW6Uodl1Ao1"
      },
      "source": [
        "plt.plot(x, x+0, '-g')"
      ],
      "execution_count": null,
      "outputs": []
    },
    {
      "cell_type": "code",
      "metadata": {
        "id": "rExI3vJ22R0b"
      },
      "source": [
        "plt.xlim(-1,11)\n",
        "plt.ylim(-1.5, 1.5)"
      ],
      "execution_count": null,
      "outputs": []
    },
    {
      "cell_type": "code",
      "metadata": {
        "id": "ds0B3pY3RjW8"
      },
      "source": [
        "plt.plot(x, np.sin(x))\n",
        "plt.axis('tight')"
      ],
      "execution_count": null,
      "outputs": []
    },
    {
      "cell_type": "code",
      "metadata": {
        "id": "T1C2wdYmR3hY"
      },
      "source": [
        "# 양 쪽 축에 대해서 단위 맞출 떄\n",
        "plt.plot(x, np.sin(x))\n",
        "plt.axis('equal')"
      ],
      "execution_count": null,
      "outputs": []
    },
    {
      "cell_type": "code",
      "metadata": {
        "id": "-AfA1EKeSHJF"
      },
      "source": [
        "# plot에 레이블 붙이기"
      ],
      "execution_count": null,
      "outputs": []
    },
    {
      "cell_type": "code",
      "metadata": {
        "id": "_45w5l-LSYLy"
      },
      "source": [
        "plt.plot(x, np.sin(x))\n",
        "plt.title('A sine Curve')\n",
        "plt.xlabel('x')\n",
        "plt.ylabel('sin(x)')"
      ],
      "execution_count": null,
      "outputs": []
    },
    {
      "cell_type": "code",
      "metadata": {
        "id": "FFlkBA4qSkOB"
      },
      "source": [
        "plt.plot(x, np.sin(x), '--g', label='sin(x)')\n",
        "plt.plot(x, np.cos(x), ':b', label='cos(x)')\n",
        "plt.axis('equal')\n",
        "# 어라 라벨을 달았는데 안 보이네?\n",
        "plt.legend()"
      ],
      "execution_count": null,
      "outputs": []
    },
    {
      "cell_type": "markdown",
      "metadata": {
        "id": "0cAtMrUHTl81"
      },
      "source": [
        "라벨 달았는데 안 보일 때는? 레전드"
      ]
    },
    {
      "cell_type": "code",
      "metadata": {
        "id": "JoSa1TA6TtyA"
      },
      "source": [
        "x = np.linspace(0,10,30)\n",
        "y = np.sin(x)\n",
        "\n",
        "plt.plot(x,y, 'o', color = 'black')"
      ],
      "execution_count": null,
      "outputs": []
    },
    {
      "cell_type": "code",
      "metadata": {
        "id": "zI_SKqJgV9V-"
      },
      "source": [
        "import random "
      ],
      "execution_count": null,
      "outputs": []
    },
    {
      "cell_type": "code",
      "metadata": {
        "id": "lDeGfb16T_bl"
      },
      "source": [
        "rng = np.random.RandomState(0)\n",
        "\n",
        "for maker in ['o',',',',',',','x','+','v','^','<','>','s','d']:\n",
        "  plt.plot(rng.rand(5),rng.rand(5),maker,label='maker={0}'.format(maker))\n",
        "\n",
        "plt.legend()"
      ],
      "execution_count": null,
      "outputs": []
    },
    {
      "cell_type": "code",
      "metadata": {
        "id": "UU9hzQ5HVTA0"
      },
      "source": [
        "plt.plot(x,y, '-ok')"
      ],
      "execution_count": null,
      "outputs": []
    },
    {
      "cell_type": "code",
      "metadata": {
        "id": "O97yBQHOZwOx"
      },
      "source": [
        "plt.plot(x,y, '-p', color='gray',\n",
        "      markersize=15, linewidth='4',\n",
        "      markerfacecolor='white',\n",
        "      markeredgecolor='gray',\n",
        "      markeredgewidth='2')"
      ],
      "execution_count": null,
      "outputs": []
    },
    {
      "cell_type": "code",
      "metadata": {
        "id": "VS5KBaGnaJX_"
      },
      "source": [
        "plt.scatter(x, y, marker='o')\n",
        "\n",
        "# 데이터의 크기에 따라서 점의 크기를 키워서 원처럼 쓸 수도 있어"
      ],
      "execution_count": null,
      "outputs": []
    },
    {
      "cell_type": "code",
      "metadata": {
        "id": "-iaVKVIObTd_"
      },
      "source": [
        "rng = np.random.RandomState(0)\n",
        "\n",
        "x = rng.randn(100)\n",
        "y = rng.randn(100)\n",
        "color = rng.rand(100)\n",
        "sizes = 1000 * rng.rand(100)\n",
        "\n",
        "plt.scatter(x,y, c=color, s=sizes, alpha=0.3, cmap='viridis')"
      ],
      "execution_count": null,
      "outputs": []
    },
    {
      "cell_type": "code",
      "metadata": {
        "id": "n_w2ddiJcCwi"
      },
      "source": [
        "# 오차가 나올 때는?\n",
        "x = np.linspace(0, 10, 50)\n",
        "dy = 0.8\n",
        "y = np.sin(x) + dy * np.random.randn(50)\n",
        "plt.errorbar(x, y, yerr=dy, fmt='.k')"
      ],
      "execution_count": null,
      "outputs": []
    }
  ]
}